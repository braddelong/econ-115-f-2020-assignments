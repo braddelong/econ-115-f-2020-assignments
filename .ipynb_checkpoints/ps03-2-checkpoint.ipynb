{
 "cells": [
  {
   "cell_type": "code",
   "execution_count": 1,
   "metadata": {},
   "outputs": [],
   "source": [
    "# set up the computing environment: ensure that graphs\n",
    "# appear inline in the notebook & not in extra windows:\n",
    "\n",
    "%matplotlib inline"
   ]
  },
  {
   "cell_type": "code",
   "execution_count": 2,
   "metadata": {},
   "outputs": [],
   "source": [
    "# set up the computing environment: get the ok system library...\n",
    "\n",
    "from client.api.notebook import Notebook\n",
    "# ok = Notebook('ps02.ok')"
   ]
  },
  {
   "cell_type": "code",
   "execution_count": 3,
   "metadata": {},
   "outputs": [],
   "source": [
    "# set up the computing environment: import other libraries\n",
    "\n",
    "import numpy as np\n",
    "import pandas as pd\n",
    "import matplotlib as mpl\n",
    "import matplotlib.pyplot as plt"
   ]
  },
  {
   "cell_type": "code",
   "execution_count": 4,
   "metadata": {},
   "outputs": [
    {
     "name": "stdout",
     "output_type": "stream",
     "text": [
      "Requirement already satisfied: linearmodels in /Users/braddelong/opt/anaconda3/lib/python3.7/site-packages (4.17)\n",
      "Requirement already satisfied: scipy>=1 in /Users/braddelong/opt/anaconda3/lib/python3.7/site-packages (from linearmodels) (1.4.1)\n",
      "Requirement already satisfied: property-cached>=1.6.3 in /Users/braddelong/opt/anaconda3/lib/python3.7/site-packages (from linearmodels) (1.6.4)\n",
      "Requirement already satisfied: Cython>=0.29.14 in /Users/braddelong/opt/anaconda3/lib/python3.7/site-packages (from linearmodels) (0.29.17)\n",
      "Requirement already satisfied: mypy-extensions>=0.4 in /Users/braddelong/opt/anaconda3/lib/python3.7/site-packages (from linearmodels) (0.4.3)\n",
      "Requirement already satisfied: statsmodels>=0.9 in /Users/braddelong/opt/anaconda3/lib/python3.7/site-packages (from linearmodels) (0.11.0)\n",
      "Requirement already satisfied: numpy>=1.15 in /Users/braddelong/opt/anaconda3/lib/python3.7/site-packages (from linearmodels) (1.18.1)\n",
      "Requirement already satisfied: pandas>=0.23 in /Users/braddelong/opt/anaconda3/lib/python3.7/site-packages (from linearmodels) (1.0.3)\n",
      "Requirement already satisfied: patsy in /Users/braddelong/opt/anaconda3/lib/python3.7/site-packages (from linearmodels) (0.5.1)\n",
      "Requirement already satisfied: pytz>=2017.2 in /Users/braddelong/opt/anaconda3/lib/python3.7/site-packages (from pandas>=0.23->linearmodels) (2019.3)\n",
      "Requirement already satisfied: python-dateutil>=2.6.1 in /Users/braddelong/opt/anaconda3/lib/python3.7/site-packages (from pandas>=0.23->linearmodels) (2.8.1)\n",
      "Requirement already satisfied: six in /Users/braddelong/opt/anaconda3/lib/python3.7/site-packages (from patsy->linearmodels) (1.14.0)\n"
     ]
    }
   ],
   "source": [
    "#libraries:\n",
    "\n",
    "!pip install linearmodels\n",
    "import statsmodels.api as sm\n",
    "from statsmodels.iolib.summary2 import summary_col\n",
    "from linearmodels.iv import IV2SLS"
   ]
  },
  {
   "cell_type": "markdown",
   "metadata": {},
   "source": [
    "Now let me provide you with another set of data analogous to those for the world as a whole that I had you examine in problem set 1. This set will be for the \"global north\" or \"west\"—that part of the world that dominated the Americas starting in the 1500s and then became much richer and more powerful than the rest since the start of the 1700s—consisting of northwest Europe, and then by 1770 of that plus he Atlantic seaboard of the Americas, adding on Australia and New Zealand by 1870, and now including those areas plus southwest and some of central Europe, plus Japan, South Korea, and Taiwan. \n",
    "\n",
    "The other will be for the \"not-west\" or \"global south\"."
   ]
  },
  {
   "cell_type": "code",
   "execution_count": 5,
   "metadata": {},
   "outputs": [],
   "source": [
    "# for the \"global north\" or \"west\":\n",
    "\n",
    "long_run_growth_list_global_north = [\n",
    "    [-68000, 0.00001, 1200, 379.47, 0.0001],\n",
    "    [-8000, 0.1, 1200, 1897.37, 0.0294],\n",
    "    [-6000, 0.2, 900, 2012.5, 0.0294],\n",
    "    [-3000, 0.5, 900, 3182, 0.0294],\n",
    "    [-1000, 2, 900, 6364.1, 0.0294],\n",
    "    [1, 5, 900, 10062.5, 0.0294],\n",
    "    [1500, 25, 1000, 25000.4, 0.0294],\n",
    "    [1770, 75, 1400, 42866.8, 0.0588],\n",
    "    [1870, 175, 2800, 106928.6, 0.0882],\n",
    "    [2020, 800, 50000, 3580637.4, 0.1147]\n",
    "    ]"
   ]
  },
  {
   "cell_type": "code",
   "execution_count": 6,
   "metadata": {},
   "outputs": [],
   "source": [
    "long_run_growth_global_north_df = pd.DataFrame(\n",
    "  data=np.array(long_run_growth_list_global_north), columns = ['year', 'population', \n",
    "  'income_level', 'human_ideas', 'resources']\n",
    "  )\n",
    "long_run_growth_global_north_df['year'] = long_run_growth_global_north_df['year'].apply(np.int64)\n",
    "\n"
   ]
  },
  {
   "cell_type": "code",
   "execution_count": 7,
   "metadata": {},
   "outputs": [
    {
     "data": {
      "text/plain": [
       "[0.00015350567286626972,\n",
       " 0.00034657359027997266,\n",
       " 0.0003054302439580517,\n",
       " 0.0006931471805599453,\n",
       " 0.0009153753565176374,\n",
       " 0.001073674391216878,\n",
       " 0.004068934402474481,\n",
       " 0.008472978603872037,\n",
       " 0.010132171691629421]"
      ]
     },
     "execution_count": 7,
     "metadata": {},
     "output_type": "execute_result"
    }
   ],
   "source": [
    "initial_year = long_run_growth_global_north_df['year'][0:10]\n",
    "\n",
    "span = []\n",
    "g = []\n",
    "h = []\n",
    "n = []\n",
    "rho = []\n",
    "\n",
    "for t in range(9):\n",
    "    span = span + [long_run_growth_global_north_df['year'][t+1]-long_run_growth_global_north_df['year'][t]]\n",
    "    h = h + [np.log(long_run_growth_global_north_df['human_ideas'][t+1]/long_run_growth_global_north_df['human_ideas'][t])/span[t]]\n",
    "    g = g + [np.log(long_run_growth_global_north_df['income_level'][t+1]/long_run_growth_global_north_df['income_level'][t])/span[t]]\n",
    "    n = n + [np.log(long_run_growth_global_north_df['population'][t+1]/long_run_growth_global_north_df['population'][t])/span[t]]\n",
    "    rho = rho + [np.log(long_run_growth_global_north_df['resources'][t+1]/long_run_growth_global_north_df['resources'][t])/span[t]]\n",
    "    \n",
    "n   "
   ]
  },
  {
   "cell_type": "code",
   "execution_count": 8,
   "metadata": {},
   "outputs": [
    {
     "data": {
      "text/html": [
       "<style  type=\"text/css\" >\n",
       "</style><table id=\"T_ff82072c_fcfc_11ea_985f_acde48001122\" ><thead>    <tr>        <th class=\"blank level0\" ></th>        <th class=\"col_heading level0 col0\" >population</th>        <th class=\"col_heading level0 col1\" >income_level</th>        <th class=\"col_heading level0 col2\" >human_ideas</th>        <th class=\"col_heading level0 col3\" >resources</th>        <th class=\"col_heading level0 col4\" >eras</th>    </tr>    <tr>        <th class=\"index_name level0\" >year</th>        <th class=\"blank\" ></th>        <th class=\"blank\" ></th>        <th class=\"blank\" ></th>        <th class=\"blank\" ></th>        <th class=\"blank\" ></th>    </tr></thead><tbody>\n",
       "                <tr>\n",
       "                        <th id=\"T_ff82072c_fcfc_11ea_985f_acde48001122level0_row0\" class=\"row_heading level0 row0\" >-68000</th>\n",
       "                        <td id=\"T_ff82072c_fcfc_11ea_985f_acde48001122row0_col0\" class=\"data row0 col0\" >0.0</td>\n",
       "                        <td id=\"T_ff82072c_fcfc_11ea_985f_acde48001122row0_col1\" class=\"data row0 col1\" >$1,200</td>\n",
       "                        <td id=\"T_ff82072c_fcfc_11ea_985f_acde48001122row0_col2\" class=\"data row0 col2\" >379</td>\n",
       "                        <td id=\"T_ff82072c_fcfc_11ea_985f_acde48001122row0_col3\" class=\"data row0 col3\" >0.000</td>\n",
       "                        <td id=\"T_ff82072c_fcfc_11ea_985f_acde48001122row0_col4\" class=\"data row0 col4\" >at the dawn</td>\n",
       "            </tr>\n",
       "            <tr>\n",
       "                        <th id=\"T_ff82072c_fcfc_11ea_985f_acde48001122level0_row1\" class=\"row_heading level0 row1\" >-8000</th>\n",
       "                        <td id=\"T_ff82072c_fcfc_11ea_985f_acde48001122row1_col0\" class=\"data row1 col0\" >0.1</td>\n",
       "                        <td id=\"T_ff82072c_fcfc_11ea_985f_acde48001122row1_col1\" class=\"data row1 col1\" >$1,200</td>\n",
       "                        <td id=\"T_ff82072c_fcfc_11ea_985f_acde48001122row1_col2\" class=\"data row1 col2\" >1,897</td>\n",
       "                        <td id=\"T_ff82072c_fcfc_11ea_985f_acde48001122row1_col3\" class=\"data row1 col3\" >0.029</td>\n",
       "                        <td id=\"T_ff82072c_fcfc_11ea_985f_acde48001122row1_col4\" class=\"data row1 col4\" >agriculture & herding</td>\n",
       "            </tr>\n",
       "            <tr>\n",
       "                        <th id=\"T_ff82072c_fcfc_11ea_985f_acde48001122level0_row2\" class=\"row_heading level0 row2\" >-6000</th>\n",
       "                        <td id=\"T_ff82072c_fcfc_11ea_985f_acde48001122row2_col0\" class=\"data row2 col0\" >0.2</td>\n",
       "                        <td id=\"T_ff82072c_fcfc_11ea_985f_acde48001122row2_col1\" class=\"data row2 col1\" >$900</td>\n",
       "                        <td id=\"T_ff82072c_fcfc_11ea_985f_acde48001122row2_col2\" class=\"data row2 col2\" >2,012</td>\n",
       "                        <td id=\"T_ff82072c_fcfc_11ea_985f_acde48001122row2_col3\" class=\"data row2 col3\" >0.029</td>\n",
       "                        <td id=\"T_ff82072c_fcfc_11ea_985f_acde48001122row2_col4\" class=\"data row2 col4\" >proto-agrarian age</td>\n",
       "            </tr>\n",
       "            <tr>\n",
       "                        <th id=\"T_ff82072c_fcfc_11ea_985f_acde48001122level0_row3\" class=\"row_heading level0 row3\" >-3000</th>\n",
       "                        <td id=\"T_ff82072c_fcfc_11ea_985f_acde48001122row3_col0\" class=\"data row3 col0\" >0.5</td>\n",
       "                        <td id=\"T_ff82072c_fcfc_11ea_985f_acde48001122row3_col1\" class=\"data row3 col1\" >$900</td>\n",
       "                        <td id=\"T_ff82072c_fcfc_11ea_985f_acde48001122row3_col2\" class=\"data row3 col2\" >3,182</td>\n",
       "                        <td id=\"T_ff82072c_fcfc_11ea_985f_acde48001122row3_col3\" class=\"data row3 col3\" >0.029</td>\n",
       "                        <td id=\"T_ff82072c_fcfc_11ea_985f_acde48001122row3_col4\" class=\"data row3 col4\" >writing</td>\n",
       "            </tr>\n",
       "            <tr>\n",
       "                        <th id=\"T_ff82072c_fcfc_11ea_985f_acde48001122level0_row4\" class=\"row_heading level0 row4\" >-1000</th>\n",
       "                        <td id=\"T_ff82072c_fcfc_11ea_985f_acde48001122row4_col0\" class=\"data row4 col0\" >2.0</td>\n",
       "                        <td id=\"T_ff82072c_fcfc_11ea_985f_acde48001122row4_col1\" class=\"data row4 col1\" >$900</td>\n",
       "                        <td id=\"T_ff82072c_fcfc_11ea_985f_acde48001122row4_col2\" class=\"data row4 col2\" >6,364</td>\n",
       "                        <td id=\"T_ff82072c_fcfc_11ea_985f_acde48001122row4_col3\" class=\"data row4 col3\" >0.029</td>\n",
       "                        <td id=\"T_ff82072c_fcfc_11ea_985f_acde48001122row4_col4\" class=\"data row4 col4\" >axial age</td>\n",
       "            </tr>\n",
       "            <tr>\n",
       "                        <th id=\"T_ff82072c_fcfc_11ea_985f_acde48001122level0_row5\" class=\"row_heading level0 row5\" >1</th>\n",
       "                        <td id=\"T_ff82072c_fcfc_11ea_985f_acde48001122row5_col0\" class=\"data row5 col0\" >5.0</td>\n",
       "                        <td id=\"T_ff82072c_fcfc_11ea_985f_acde48001122row5_col1\" class=\"data row5 col1\" >$900</td>\n",
       "                        <td id=\"T_ff82072c_fcfc_11ea_985f_acde48001122row5_col2\" class=\"data row5 col2\" >10,062</td>\n",
       "                        <td id=\"T_ff82072c_fcfc_11ea_985f_acde48001122row5_col3\" class=\"data row5 col3\" >0.029</td>\n",
       "                        <td id=\"T_ff82072c_fcfc_11ea_985f_acde48001122row5_col4\" class=\"data row5 col4\" >dark & middle age slowdown</td>\n",
       "            </tr>\n",
       "            <tr>\n",
       "                        <th id=\"T_ff82072c_fcfc_11ea_985f_acde48001122level0_row6\" class=\"row_heading level0 row6\" >1500</th>\n",
       "                        <td id=\"T_ff82072c_fcfc_11ea_985f_acde48001122row6_col0\" class=\"data row6 col0\" >25.0</td>\n",
       "                        <td id=\"T_ff82072c_fcfc_11ea_985f_acde48001122row6_col1\" class=\"data row6 col1\" >$1,000</td>\n",
       "                        <td id=\"T_ff82072c_fcfc_11ea_985f_acde48001122row6_col2\" class=\"data row6 col2\" >25,000</td>\n",
       "                        <td id=\"T_ff82072c_fcfc_11ea_985f_acde48001122row6_col3\" class=\"data row6 col3\" >0.029</td>\n",
       "                        <td id=\"T_ff82072c_fcfc_11ea_985f_acde48001122row6_col4\" class=\"data row6 col4\" >commercial revolution</td>\n",
       "            </tr>\n",
       "            <tr>\n",
       "                        <th id=\"T_ff82072c_fcfc_11ea_985f_acde48001122level0_row7\" class=\"row_heading level0 row7\" >1770</th>\n",
       "                        <td id=\"T_ff82072c_fcfc_11ea_985f_acde48001122row7_col0\" class=\"data row7 col0\" >75.0</td>\n",
       "                        <td id=\"T_ff82072c_fcfc_11ea_985f_acde48001122row7_col1\" class=\"data row7 col1\" >$1,400</td>\n",
       "                        <td id=\"T_ff82072c_fcfc_11ea_985f_acde48001122row7_col2\" class=\"data row7 col2\" >42,867</td>\n",
       "                        <td id=\"T_ff82072c_fcfc_11ea_985f_acde48001122row7_col3\" class=\"data row7 col3\" >0.059</td>\n",
       "                        <td id=\"T_ff82072c_fcfc_11ea_985f_acde48001122row7_col4\" class=\"data row7 col4\" >industrial revolution</td>\n",
       "            </tr>\n",
       "            <tr>\n",
       "                        <th id=\"T_ff82072c_fcfc_11ea_985f_acde48001122level0_row8\" class=\"row_heading level0 row8\" >1870</th>\n",
       "                        <td id=\"T_ff82072c_fcfc_11ea_985f_acde48001122row8_col0\" class=\"data row8 col0\" >175.0</td>\n",
       "                        <td id=\"T_ff82072c_fcfc_11ea_985f_acde48001122row8_col1\" class=\"data row8 col1\" >$2,800</td>\n",
       "                        <td id=\"T_ff82072c_fcfc_11ea_985f_acde48001122row8_col2\" class=\"data row8 col2\" >106,929</td>\n",
       "                        <td id=\"T_ff82072c_fcfc_11ea_985f_acde48001122row8_col3\" class=\"data row8 col3\" >0.088</td>\n",
       "                        <td id=\"T_ff82072c_fcfc_11ea_985f_acde48001122row8_col4\" class=\"data row8 col4\" >modern economic growth</td>\n",
       "            </tr>\n",
       "            <tr>\n",
       "                        <th id=\"T_ff82072c_fcfc_11ea_985f_acde48001122level0_row9\" class=\"row_heading level0 row9\" >2020</th>\n",
       "                        <td id=\"T_ff82072c_fcfc_11ea_985f_acde48001122row9_col0\" class=\"data row9 col0\" >800.0</td>\n",
       "                        <td id=\"T_ff82072c_fcfc_11ea_985f_acde48001122row9_col1\" class=\"data row9 col1\" >$50,000</td>\n",
       "                        <td id=\"T_ff82072c_fcfc_11ea_985f_acde48001122row9_col2\" class=\"data row9 col2\" >3,580,637</td>\n",
       "                        <td id=\"T_ff82072c_fcfc_11ea_985f_acde48001122row9_col3\" class=\"data row9 col3\" >0.115</td>\n",
       "                        <td id=\"T_ff82072c_fcfc_11ea_985f_acde48001122row9_col4\" class=\"data row9 col4\" >whatever the 21st century brings</td>\n",
       "            </tr>\n",
       "    </tbody></table>"
      ],
      "text/plain": [
       "<pandas.io.formats.style.Styler at 0x7fdbd38ccdd0>"
      ]
     },
     "execution_count": 8,
     "metadata": {},
     "output_type": "execute_result"
    }
   ],
   "source": [
    "long_run_growth_global_north_df.set_index('year', inplace=True)\n",
    "\n",
    "# finally, add a note to the end of each observation, reminding\n",
    "# us of what was going on in human history back in each of the\n",
    "# eras into which we have divided it\n",
    "\n",
    "eras = ['at the dawn', 'agriculture & herding', 'proto-agrarian age',\n",
    "        'writing', 'axial age', 'dark & middle age slowdown', 'commercial revolution',\n",
    "        'industrial revolution', 'modern economic growth', 'whatever the 21st century brings']\n",
    "\n",
    "long_run_growth_global_north_df['eras'] = eras\n",
    "\n",
    "format_dict = {'year': '{d}', 'human_ideas': '{0:,.0f}', \n",
    "    'income_level': '${0:,.0f}', 'population': '{0:,.1f}','resources': '{0:,.3f}'}\n",
    "\n",
    "long_run_growth_global_north_df.style.format(format_dict)"
   ]
  },
  {
   "cell_type": "code",
   "execution_count": 9,
   "metadata": {},
   "outputs": [],
   "source": [
    "data_list = np.array([span, h, g, n, rho]).transpose()"
   ]
  },
  {
   "cell_type": "code",
   "execution_count": 10,
   "metadata": {},
   "outputs": [
    {
     "data": {
      "text/html": [
       "<style  type=\"text/css\" >\n",
       "</style><table id=\"T_ff85cc68_fcfc_11ea_985f_acde48001122\" ><thead>    <tr>        <th class=\"blank level0\" ></th>        <th class=\"col_heading level0 col0\" >span</th>        <th class=\"col_heading level0 col1\" >h</th>        <th class=\"col_heading level0 col2\" >g</th>        <th class=\"col_heading level0 col3\" >n</th>        <th class=\"col_heading level0 col4\" >rho</th>        <th class=\"col_heading level0 col5\" >initial_year</th>        <th class=\"col_heading level0 col6\" >era</th>    </tr></thead><tbody>\n",
       "                <tr>\n",
       "                        <th id=\"T_ff85cc68_fcfc_11ea_985f_acde48001122level0_row0\" class=\"row_heading level0 row0\" >0</th>\n",
       "                        <td id=\"T_ff85cc68_fcfc_11ea_985f_acde48001122row0_col0\" class=\"data row0 col0\" >60000</td>\n",
       "                        <td id=\"T_ff85cc68_fcfc_11ea_985f_acde48001122row0_col1\" class=\"data row0 col1\" >0.003%</td>\n",
       "                        <td id=\"T_ff85cc68_fcfc_11ea_985f_acde48001122row0_col2\" class=\"data row0 col2\" >0.00%</td>\n",
       "                        <td id=\"T_ff85cc68_fcfc_11ea_985f_acde48001122row0_col3\" class=\"data row0 col3\" >0.02%</td>\n",
       "                        <td id=\"T_ff85cc68_fcfc_11ea_985f_acde48001122row0_col4\" class=\"data row0 col4\" >0.009%</td>\n",
       "                        <td id=\"T_ff85cc68_fcfc_11ea_985f_acde48001122row0_col5\" class=\"data row0 col5\" >-68000</td>\n",
       "                        <td id=\"T_ff85cc68_fcfc_11ea_985f_acde48001122row0_col6\" class=\"data row0 col6\" >at the dawn</td>\n",
       "            </tr>\n",
       "            <tr>\n",
       "                        <th id=\"T_ff85cc68_fcfc_11ea_985f_acde48001122level0_row1\" class=\"row_heading level0 row1\" >1</th>\n",
       "                        <td id=\"T_ff85cc68_fcfc_11ea_985f_acde48001122row1_col0\" class=\"data row1 col0\" >2000</td>\n",
       "                        <td id=\"T_ff85cc68_fcfc_11ea_985f_acde48001122row1_col1\" class=\"data row1 col1\" >0.003%</td>\n",
       "                        <td id=\"T_ff85cc68_fcfc_11ea_985f_acde48001122row1_col2\" class=\"data row1 col2\" >-0.01%</td>\n",
       "                        <td id=\"T_ff85cc68_fcfc_11ea_985f_acde48001122row1_col3\" class=\"data row1 col3\" >0.03%</td>\n",
       "                        <td id=\"T_ff85cc68_fcfc_11ea_985f_acde48001122row1_col4\" class=\"data row1 col4\" >0.000%</td>\n",
       "                        <td id=\"T_ff85cc68_fcfc_11ea_985f_acde48001122row1_col5\" class=\"data row1 col5\" >-8000</td>\n",
       "                        <td id=\"T_ff85cc68_fcfc_11ea_985f_acde48001122row1_col6\" class=\"data row1 col6\" >agriculture & herding</td>\n",
       "            </tr>\n",
       "            <tr>\n",
       "                        <th id=\"T_ff85cc68_fcfc_11ea_985f_acde48001122level0_row2\" class=\"row_heading level0 row2\" >2</th>\n",
       "                        <td id=\"T_ff85cc68_fcfc_11ea_985f_acde48001122row2_col0\" class=\"data row2 col0\" >3000</td>\n",
       "                        <td id=\"T_ff85cc68_fcfc_11ea_985f_acde48001122row2_col1\" class=\"data row2 col1\" >0.015%</td>\n",
       "                        <td id=\"T_ff85cc68_fcfc_11ea_985f_acde48001122row2_col2\" class=\"data row2 col2\" >0.00%</td>\n",
       "                        <td id=\"T_ff85cc68_fcfc_11ea_985f_acde48001122row2_col3\" class=\"data row2 col3\" >0.03%</td>\n",
       "                        <td id=\"T_ff85cc68_fcfc_11ea_985f_acde48001122row2_col4\" class=\"data row2 col4\" >0.000%</td>\n",
       "                        <td id=\"T_ff85cc68_fcfc_11ea_985f_acde48001122row2_col5\" class=\"data row2 col5\" >-6000</td>\n",
       "                        <td id=\"T_ff85cc68_fcfc_11ea_985f_acde48001122row2_col6\" class=\"data row2 col6\" >proto-agrarian age</td>\n",
       "            </tr>\n",
       "            <tr>\n",
       "                        <th id=\"T_ff85cc68_fcfc_11ea_985f_acde48001122level0_row3\" class=\"row_heading level0 row3\" >3</th>\n",
       "                        <td id=\"T_ff85cc68_fcfc_11ea_985f_acde48001122row3_col0\" class=\"data row3 col0\" >2000</td>\n",
       "                        <td id=\"T_ff85cc68_fcfc_11ea_985f_acde48001122row3_col1\" class=\"data row3 col1\" >0.035%</td>\n",
       "                        <td id=\"T_ff85cc68_fcfc_11ea_985f_acde48001122row3_col2\" class=\"data row3 col2\" >0.00%</td>\n",
       "                        <td id=\"T_ff85cc68_fcfc_11ea_985f_acde48001122row3_col3\" class=\"data row3 col3\" >0.07%</td>\n",
       "                        <td id=\"T_ff85cc68_fcfc_11ea_985f_acde48001122row3_col4\" class=\"data row3 col4\" >0.000%</td>\n",
       "                        <td id=\"T_ff85cc68_fcfc_11ea_985f_acde48001122row3_col5\" class=\"data row3 col5\" >-3000</td>\n",
       "                        <td id=\"T_ff85cc68_fcfc_11ea_985f_acde48001122row3_col6\" class=\"data row3 col6\" >writing</td>\n",
       "            </tr>\n",
       "            <tr>\n",
       "                        <th id=\"T_ff85cc68_fcfc_11ea_985f_acde48001122level0_row4\" class=\"row_heading level0 row4\" >4</th>\n",
       "                        <td id=\"T_ff85cc68_fcfc_11ea_985f_acde48001122row4_col0\" class=\"data row4 col0\" >1001</td>\n",
       "                        <td id=\"T_ff85cc68_fcfc_11ea_985f_acde48001122row4_col1\" class=\"data row4 col1\" >0.046%</td>\n",
       "                        <td id=\"T_ff85cc68_fcfc_11ea_985f_acde48001122row4_col2\" class=\"data row4 col2\" >0.00%</td>\n",
       "                        <td id=\"T_ff85cc68_fcfc_11ea_985f_acde48001122row4_col3\" class=\"data row4 col3\" >0.09%</td>\n",
       "                        <td id=\"T_ff85cc68_fcfc_11ea_985f_acde48001122row4_col4\" class=\"data row4 col4\" >0.000%</td>\n",
       "                        <td id=\"T_ff85cc68_fcfc_11ea_985f_acde48001122row4_col5\" class=\"data row4 col5\" >-1000</td>\n",
       "                        <td id=\"T_ff85cc68_fcfc_11ea_985f_acde48001122row4_col6\" class=\"data row4 col6\" >axial age</td>\n",
       "            </tr>\n",
       "            <tr>\n",
       "                        <th id=\"T_ff85cc68_fcfc_11ea_985f_acde48001122level0_row5\" class=\"row_heading level0 row5\" >5</th>\n",
       "                        <td id=\"T_ff85cc68_fcfc_11ea_985f_acde48001122row5_col0\" class=\"data row5 col0\" >1499</td>\n",
       "                        <td id=\"T_ff85cc68_fcfc_11ea_985f_acde48001122row5_col1\" class=\"data row5 col1\" >0.061%</td>\n",
       "                        <td id=\"T_ff85cc68_fcfc_11ea_985f_acde48001122row5_col2\" class=\"data row5 col2\" >0.01%</td>\n",
       "                        <td id=\"T_ff85cc68_fcfc_11ea_985f_acde48001122row5_col3\" class=\"data row5 col3\" >0.11%</td>\n",
       "                        <td id=\"T_ff85cc68_fcfc_11ea_985f_acde48001122row5_col4\" class=\"data row5 col4\" >0.000%</td>\n",
       "                        <td id=\"T_ff85cc68_fcfc_11ea_985f_acde48001122row5_col5\" class=\"data row5 col5\" >1</td>\n",
       "                        <td id=\"T_ff85cc68_fcfc_11ea_985f_acde48001122row5_col6\" class=\"data row5 col6\" >dark & middle age slowdown</td>\n",
       "            </tr>\n",
       "            <tr>\n",
       "                        <th id=\"T_ff85cc68_fcfc_11ea_985f_acde48001122level0_row6\" class=\"row_heading level0 row6\" >6</th>\n",
       "                        <td id=\"T_ff85cc68_fcfc_11ea_985f_acde48001122row6_col0\" class=\"data row6 col0\" >270</td>\n",
       "                        <td id=\"T_ff85cc68_fcfc_11ea_985f_acde48001122row6_col1\" class=\"data row6 col1\" >0.200%</td>\n",
       "                        <td id=\"T_ff85cc68_fcfc_11ea_985f_acde48001122row6_col2\" class=\"data row6 col2\" >0.12%</td>\n",
       "                        <td id=\"T_ff85cc68_fcfc_11ea_985f_acde48001122row6_col3\" class=\"data row6 col3\" >0.41%</td>\n",
       "                        <td id=\"T_ff85cc68_fcfc_11ea_985f_acde48001122row6_col4\" class=\"data row6 col4\" >0.257%</td>\n",
       "                        <td id=\"T_ff85cc68_fcfc_11ea_985f_acde48001122row6_col5\" class=\"data row6 col5\" >1500</td>\n",
       "                        <td id=\"T_ff85cc68_fcfc_11ea_985f_acde48001122row6_col6\" class=\"data row6 col6\" >commercial revolution</td>\n",
       "            </tr>\n",
       "            <tr>\n",
       "                        <th id=\"T_ff85cc68_fcfc_11ea_985f_acde48001122level0_row7\" class=\"row_heading level0 row7\" >7</th>\n",
       "                        <td id=\"T_ff85cc68_fcfc_11ea_985f_acde48001122row7_col0\" class=\"data row7 col0\" >100</td>\n",
       "                        <td id=\"T_ff85cc68_fcfc_11ea_985f_acde48001122row7_col1\" class=\"data row7 col1\" >0.914%</td>\n",
       "                        <td id=\"T_ff85cc68_fcfc_11ea_985f_acde48001122row7_col2\" class=\"data row7 col2\" >0.69%</td>\n",
       "                        <td id=\"T_ff85cc68_fcfc_11ea_985f_acde48001122row7_col3\" class=\"data row7 col3\" >0.85%</td>\n",
       "                        <td id=\"T_ff85cc68_fcfc_11ea_985f_acde48001122row7_col4\" class=\"data row7 col4\" >0.405%</td>\n",
       "                        <td id=\"T_ff85cc68_fcfc_11ea_985f_acde48001122row7_col5\" class=\"data row7 col5\" >1770</td>\n",
       "                        <td id=\"T_ff85cc68_fcfc_11ea_985f_acde48001122row7_col6\" class=\"data row7 col6\" >industrial revolution</td>\n",
       "            </tr>\n",
       "            <tr>\n",
       "                        <th id=\"T_ff85cc68_fcfc_11ea_985f_acde48001122level0_row8\" class=\"row_heading level0 row8\" >8</th>\n",
       "                        <td id=\"T_ff85cc68_fcfc_11ea_985f_acde48001122row8_col0\" class=\"data row8 col0\" >150</td>\n",
       "                        <td id=\"T_ff85cc68_fcfc_11ea_985f_acde48001122row8_col1\" class=\"data row8 col1\" >2.341%</td>\n",
       "                        <td id=\"T_ff85cc68_fcfc_11ea_985f_acde48001122row8_col2\" class=\"data row8 col2\" >1.92%</td>\n",
       "                        <td id=\"T_ff85cc68_fcfc_11ea_985f_acde48001122row8_col3\" class=\"data row8 col3\" >1.01%</td>\n",
       "                        <td id=\"T_ff85cc68_fcfc_11ea_985f_acde48001122row8_col4\" class=\"data row8 col4\" >0.175%</td>\n",
       "                        <td id=\"T_ff85cc68_fcfc_11ea_985f_acde48001122row8_col5\" class=\"data row8 col5\" >1870</td>\n",
       "                        <td id=\"T_ff85cc68_fcfc_11ea_985f_acde48001122row8_col6\" class=\"data row8 col6\" >modern economic growth</td>\n",
       "            </tr>\n",
       "    </tbody></table>"
      ],
      "text/plain": [
       "<pandas.io.formats.style.Styler at 0x7fdbd5b26950>"
      ]
     },
     "execution_count": 10,
     "metadata": {},
     "output_type": "execute_result"
    }
   ],
   "source": [
    "long_run_growth_rates_global_north_df = pd.DataFrame(\n",
    "    data=data_list, columns = ['span', 'h', 'g', 'n', 'rho'])\n",
    "\n",
    "long_run_growth_rates_global_north_df['initial_year'] = initial_year\n",
    "\n",
    "eras2 = eras[0:9]\n",
    "\n",
    "long_run_growth_rates_global_north_df['era'] = eras2\n",
    "\n",
    "format_dict = {'initial_year':'{0:.0f}',  'span': '{0:.0f}', 'h': '{0:,.3%}', \n",
    "    'g': '{0:,.2%}', 'n': '{0:,.2%}', 'n': '{0:,.2%}' , 'rho': '{0:,.3%}'}\n",
    "\n",
    "\n",
    "long_run_growth_rates_global_north_df.style.format(format_dict)"
   ]
  }
 ],
 "metadata": {
  "kernelspec": {
   "display_name": "Python 3",
   "language": "python",
   "name": "python3"
  },
  "language_info": {
   "codemirror_mode": {
    "name": "ipython",
    "version": 3
   },
   "file_extension": ".py",
   "mimetype": "text/x-python",
   "name": "python",
   "nbconvert_exporter": "python",
   "pygments_lexer": "ipython3",
   "version": "3.7.7"
  }
 },
 "nbformat": 4,
 "nbformat_minor": 4
}
