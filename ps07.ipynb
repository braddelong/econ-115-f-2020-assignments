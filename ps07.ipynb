{
 "cells": [
  {
   "cell_type": "markdown",
   "metadata": {
    "editable": "false"
   },
   "source": [
    "# Problem set 7. Review: Dataframe Access & Exponential Growth\n",
    "\n",
    "## Too many people spent far too much time on PS03.ipynb\n",
    "\n",
    "Therefore we area going to back up and review how to pull numbers out of dataframes, and we are going to review exponential growth processes\n",
    "\n",
    "Let us get started!\n",
    "\n",
    "&nbsp;"
   ]
  },
  {
   "cell_type": "markdown",
   "metadata": {
    "editable": "false"
   },
   "source": [
    "# 1. Preliminaries\n",
    "\n",
    "### A. Computing environment\n",
    "\n",
    "First, we set up the computing environment with the libraries we need: "
   ]
  },
  {
   "cell_type": "code",
   "execution_count": 1,
   "metadata": {
    "editable": "false"
   },
   "outputs": [],
   "source": [
    "# 7.1.A.1. set up the computing environment: ensure that graphs\n",
    "# appear inline in the notebook & not in extra windows:\n",
    "\n",
    "%matplotlib inline"
   ]
  },
  {
   "cell_type": "code",
   "execution_count": 2,
   "metadata": {
    "editable": "false"
   },
   "outputs": [],
   "source": [
    "# 7.1.A.2 set up the computing environment: import other libraries\n",
    "\n",
    "import numpy as np\n",
    "import pandas as pd\n",
    "import matplotlib as mpl\n",
    "import matplotlib.pyplot as plt"
   ]
  },
  {
   "cell_type": "markdown",
   "metadata": {
    "editable": "false"
   },
   "source": [
    "&nbsp;\n",
    "\n",
    "### B. Reproduce our very long-run growth dataframes for the world, the global north, and the global south:\n",
    "\n",
    "Recall our estimates of humanity's economy in the very long run. Let's repeat their construction:\n"
   ]
  },
  {
   "cell_type": "code",
   "execution_count": 3,
   "metadata": {
    "editable": "false"
   },
   "outputs": [
    {
     "name": "stdout",
     "output_type": "stream",
     "text": [
      "WORLD LEVELS\n"
     ]
    },
    {
     "data": {
      "text/html": [
       "<style  type=\"text/css\" >\n",
       "</style><table id=\"T_96d0e52a_13e7_11eb_a725_3e22fb6c5c23\" ><thead>    <tr>        <th class=\"blank level0\" ></th>        <th class=\"col_heading level0 col0\" >year</th>        <th class=\"col_heading level0 col1\" >population</th>        <th class=\"col_heading level0 col2\" >income_level</th>        <th class=\"col_heading level0 col3\" >human_ideas</th>        <th class=\"col_heading level0 col4\" >eras</th>    </tr></thead><tbody>\n",
       "                <tr>\n",
       "                        <th id=\"T_96d0e52a_13e7_11eb_a725_3e22fb6c5c23level0_row0\" class=\"row_heading level0 row0\" >0</th>\n",
       "                        <td id=\"T_96d0e52a_13e7_11eb_a725_3e22fb6c5c23row0_col0\" class=\"data row0 col0\" >-68000</td>\n",
       "                        <td id=\"T_96d0e52a_13e7_11eb_a725_3e22fb6c5c23row0_col1\" class=\"data row0 col1\" >0.1</td>\n",
       "                        <td id=\"T_96d0e52a_13e7_11eb_a725_3e22fb6c5c23row0_col2\" class=\"data row0 col2\" >$1,200</td>\n",
       "                        <td id=\"T_96d0e52a_13e7_11eb_a725_3e22fb6c5c23row0_col3\" class=\"data row0 col3\" >379</td>\n",
       "                        <td id=\"T_96d0e52a_13e7_11eb_a725_3e22fb6c5c23row0_col4\" class=\"data row0 col4\" >at the dawn</td>\n",
       "            </tr>\n",
       "            <tr>\n",
       "                        <th id=\"T_96d0e52a_13e7_11eb_a725_3e22fb6c5c23level0_row1\" class=\"row_heading level0 row1\" >1</th>\n",
       "                        <td id=\"T_96d0e52a_13e7_11eb_a725_3e22fb6c5c23row1_col0\" class=\"data row1 col0\" >-8000</td>\n",
       "                        <td id=\"T_96d0e52a_13e7_11eb_a725_3e22fb6c5c23row1_col1\" class=\"data row1 col1\" >2.5</td>\n",
       "                        <td id=\"T_96d0e52a_13e7_11eb_a725_3e22fb6c5c23row1_col2\" class=\"data row1 col2\" >$1,200</td>\n",
       "                        <td id=\"T_96d0e52a_13e7_11eb_a725_3e22fb6c5c23row1_col3\" class=\"data row1 col3\" >1,897</td>\n",
       "                        <td id=\"T_96d0e52a_13e7_11eb_a725_3e22fb6c5c23row1_col4\" class=\"data row1 col4\" >agriculture & herding</td>\n",
       "            </tr>\n",
       "            <tr>\n",
       "                        <th id=\"T_96d0e52a_13e7_11eb_a725_3e22fb6c5c23level0_row2\" class=\"row_heading level0 row2\" >2</th>\n",
       "                        <td id=\"T_96d0e52a_13e7_11eb_a725_3e22fb6c5c23row2_col0\" class=\"data row2 col0\" >-6000</td>\n",
       "                        <td id=\"T_96d0e52a_13e7_11eb_a725_3e22fb6c5c23row2_col1\" class=\"data row2 col1\" >7.0</td>\n",
       "                        <td id=\"T_96d0e52a_13e7_11eb_a725_3e22fb6c5c23row2_col2\" class=\"data row2 col2\" >$900</td>\n",
       "                        <td id=\"T_96d0e52a_13e7_11eb_a725_3e22fb6c5c23row2_col3\" class=\"data row2 col3\" >2,381</td>\n",
       "                        <td id=\"T_96d0e52a_13e7_11eb_a725_3e22fb6c5c23row2_col4\" class=\"data row2 col4\" >proto-agrarian age</td>\n",
       "            </tr>\n",
       "            <tr>\n",
       "                        <th id=\"T_96d0e52a_13e7_11eb_a725_3e22fb6c5c23level0_row3\" class=\"row_heading level0 row3\" >3</th>\n",
       "                        <td id=\"T_96d0e52a_13e7_11eb_a725_3e22fb6c5c23row3_col0\" class=\"data row3 col0\" >-3000</td>\n",
       "                        <td id=\"T_96d0e52a_13e7_11eb_a725_3e22fb6c5c23row3_col1\" class=\"data row3 col1\" >15.0</td>\n",
       "                        <td id=\"T_96d0e52a_13e7_11eb_a725_3e22fb6c5c23row3_col2\" class=\"data row3 col2\" >$900</td>\n",
       "                        <td id=\"T_96d0e52a_13e7_11eb_a725_3e22fb6c5c23row3_col3\" class=\"data row3 col3\" >3,486</td>\n",
       "                        <td id=\"T_96d0e52a_13e7_11eb_a725_3e22fb6c5c23row3_col4\" class=\"data row3 col4\" >writing</td>\n",
       "            </tr>\n",
       "            <tr>\n",
       "                        <th id=\"T_96d0e52a_13e7_11eb_a725_3e22fb6c5c23level0_row4\" class=\"row_heading level0 row4\" >4</th>\n",
       "                        <td id=\"T_96d0e52a_13e7_11eb_a725_3e22fb6c5c23row4_col0\" class=\"data row4 col0\" >-1000</td>\n",
       "                        <td id=\"T_96d0e52a_13e7_11eb_a725_3e22fb6c5c23row4_col1\" class=\"data row4 col1\" >50.0</td>\n",
       "                        <td id=\"T_96d0e52a_13e7_11eb_a725_3e22fb6c5c23row4_col2\" class=\"data row4 col2\" >$900</td>\n",
       "                        <td id=\"T_96d0e52a_13e7_11eb_a725_3e22fb6c5c23row4_col3\" class=\"data row4 col3\" >6,364</td>\n",
       "                        <td id=\"T_96d0e52a_13e7_11eb_a725_3e22fb6c5c23row4_col4\" class=\"data row4 col4\" >axial age</td>\n",
       "            </tr>\n",
       "            <tr>\n",
       "                        <th id=\"T_96d0e52a_13e7_11eb_a725_3e22fb6c5c23level0_row5\" class=\"row_heading level0 row5\" >5</th>\n",
       "                        <td id=\"T_96d0e52a_13e7_11eb_a725_3e22fb6c5c23row5_col0\" class=\"data row5 col0\" >1</td>\n",
       "                        <td id=\"T_96d0e52a_13e7_11eb_a725_3e22fb6c5c23row5_col1\" class=\"data row5 col1\" >170.0</td>\n",
       "                        <td id=\"T_96d0e52a_13e7_11eb_a725_3e22fb6c5c23row5_col2\" class=\"data row5 col2\" >$900</td>\n",
       "                        <td id=\"T_96d0e52a_13e7_11eb_a725_3e22fb6c5c23row5_col3\" class=\"data row5 col3\" >11,735</td>\n",
       "                        <td id=\"T_96d0e52a_13e7_11eb_a725_3e22fb6c5c23row5_col4\" class=\"data row5 col4\" >dark & middle age slowdown</td>\n",
       "            </tr>\n",
       "            <tr>\n",
       "                        <th id=\"T_96d0e52a_13e7_11eb_a725_3e22fb6c5c23level0_row6\" class=\"row_heading level0 row6\" >6</th>\n",
       "                        <td id=\"T_96d0e52a_13e7_11eb_a725_3e22fb6c5c23row6_col0\" class=\"data row6 col0\" >1500</td>\n",
       "                        <td id=\"T_96d0e52a_13e7_11eb_a725_3e22fb6c5c23row6_col1\" class=\"data row6 col1\" >500.0</td>\n",
       "                        <td id=\"T_96d0e52a_13e7_11eb_a725_3e22fb6c5c23row6_col2\" class=\"data row6 col2\" >$900</td>\n",
       "                        <td id=\"T_96d0e52a_13e7_11eb_a725_3e22fb6c5c23row6_col3\" class=\"data row6 col3\" >20,125</td>\n",
       "                        <td id=\"T_96d0e52a_13e7_11eb_a725_3e22fb6c5c23row6_col4\" class=\"data row6 col4\" >commercial revolution</td>\n",
       "            </tr>\n",
       "            <tr>\n",
       "                        <th id=\"T_96d0e52a_13e7_11eb_a725_3e22fb6c5c23level0_row7\" class=\"row_heading level0 row7\" >7</th>\n",
       "                        <td id=\"T_96d0e52a_13e7_11eb_a725_3e22fb6c5c23row7_col0\" class=\"data row7 col0\" >1770</td>\n",
       "                        <td id=\"T_96d0e52a_13e7_11eb_a725_3e22fb6c5c23row7_col1\" class=\"data row7 col1\" >750.0</td>\n",
       "                        <td id=\"T_96d0e52a_13e7_11eb_a725_3e22fb6c5c23row7_col2\" class=\"data row7 col2\" >$1,100</td>\n",
       "                        <td id=\"T_96d0e52a_13e7_11eb_a725_3e22fb6c5c23row7_col3\" class=\"data row7 col3\" >30,125</td>\n",
       "                        <td id=\"T_96d0e52a_13e7_11eb_a725_3e22fb6c5c23row7_col4\" class=\"data row7 col4\" >industrial revolution</td>\n",
       "            </tr>\n",
       "            <tr>\n",
       "                        <th id=\"T_96d0e52a_13e7_11eb_a725_3e22fb6c5c23level0_row8\" class=\"row_heading level0 row8\" >8</th>\n",
       "                        <td id=\"T_96d0e52a_13e7_11eb_a725_3e22fb6c5c23row8_col0\" class=\"data row8 col0\" >1870</td>\n",
       "                        <td id=\"T_96d0e52a_13e7_11eb_a725_3e22fb6c5c23row8_col1\" class=\"data row8 col1\" >1,300.0</td>\n",
       "                        <td id=\"T_96d0e52a_13e7_11eb_a725_3e22fb6c5c23row8_col2\" class=\"data row8 col2\" >$1,300</td>\n",
       "                        <td id=\"T_96d0e52a_13e7_11eb_a725_3e22fb6c5c23row8_col3\" class=\"data row8 col3\" >46,872</td>\n",
       "                        <td id=\"T_96d0e52a_13e7_11eb_a725_3e22fb6c5c23row8_col4\" class=\"data row8 col4\" >modern economic growth</td>\n",
       "            </tr>\n",
       "            <tr>\n",
       "                        <th id=\"T_96d0e52a_13e7_11eb_a725_3e22fb6c5c23level0_row9\" class=\"row_heading level0 row9\" >9</th>\n",
       "                        <td id=\"T_96d0e52a_13e7_11eb_a725_3e22fb6c5c23row9_col0\" class=\"data row9 col0\" >2020</td>\n",
       "                        <td id=\"T_96d0e52a_13e7_11eb_a725_3e22fb6c5c23row9_col1\" class=\"data row9 col1\" >7,600.0</td>\n",
       "                        <td id=\"T_96d0e52a_13e7_11eb_a725_3e22fb6c5c23row9_col2\" class=\"data row9 col2\" >$11,842</td>\n",
       "                        <td id=\"T_96d0e52a_13e7_11eb_a725_3e22fb6c5c23row9_col3\" class=\"data row9 col3\" >1,032,371</td>\n",
       "                        <td id=\"T_96d0e52a_13e7_11eb_a725_3e22fb6c5c23row9_col4\" class=\"data row9 col4\" >whatever the 21st century brings</td>\n",
       "            </tr>\n",
       "    </tbody></table>"
      ],
      "text/plain": [
       "<pandas.io.formats.style.Styler at 0x7f903196c990>"
      ]
     },
     "execution_count": 3,
     "metadata": {},
     "output_type": "execute_result"
    }
   ],
   "source": [
    "# 7.1.B.1. repeating the creation of the world dataframe:\n",
    "\n",
    "long_run_growth_list = [\n",
    "    [-68000, 0.1, 1200, 379.47],\n",
    "    [-8000, 2.5, 1200, 1897.37],\n",
    "    [-6000, 7, 900, 2381.18],\n",
    "    [-3000, 15, 900, 3485.68],\n",
    "    [-1000, 50, 900, 6363.96],\n",
    "    [1, 170, 900, 11734.56],\n",
    "    [1500, 500, 900, 20124.61],\n",
    "    [1770, 750, 1100, 30124.74],\n",
    "    [1870, 1300, 1300, 46872.1],\n",
    "    [2020, 7600, 11842, 1032370.8]\n",
    "    ]\n",
    "\n",
    "long_run_growth_df = pd.DataFrame(\n",
    "  data=np.array(long_run_growth_list), columns = ['year', 'population', \n",
    "  'income_level', 'human_ideas']\n",
    "  )\n",
    "\n",
    "long_run_growth_df['year'] = long_run_growth_df['year'].apply(np.int64)\n",
    "\n",
    "initial_year = long_run_growth_df['year'][0:10]\n",
    "\n",
    "span = []\n",
    "g = []\n",
    "h = []\n",
    "n = []\n",
    "\n",
    "for t in range(9):\n",
    "    span = span + [long_run_growth_df['year'][t+1]-long_run_growth_df['year'][t]]\n",
    "    h = h + [np.log(long_run_growth_df['human_ideas'][t+1]/long_run_growth_df['human_ideas'][t])/span[t]]\n",
    "    g = g + [np.log(long_run_growth_df['income_level'][t+1]/long_run_growth_df['income_level'][t])/span[t]]\n",
    "    n = n + [np.log(long_run_growth_df['population'][t+1]/long_run_growth_df['population'][t])/span[t]]\n",
    "    \n",
    "\n",
    "\n",
    "# finally, add a note to the end of each observation, reminding\n",
    "# us of what was going on in human history back in each of the\n",
    "# eras into which we have divided it\n",
    "\n",
    "eras = ['at the dawn', 'agriculture & herding', 'proto-agrarian age',\n",
    "        'writing', 'axial age', 'dark & middle age slowdown', 'commercial revolution',\n",
    "        'industrial revolution', 'modern economic growth', 'whatever the 21st century brings']\n",
    "\n",
    "long_run_growth_df['eras'] = eras\n",
    "\n",
    "format_dict = {'human_ideas': '{0:,.0f}', \n",
    "    'income_level': '${0:,.0f}', 'population': '{0:,.1f}'}\n",
    "\n",
    "print('WORLD LEVELS')\n",
    "long_run_growth_df.style.format(format_dict)"
   ]
  },
  {
   "cell_type": "code",
   "execution_count": 4,
   "metadata": {
    "editable": "false"
   },
   "outputs": [
    {
     "name": "stdout",
     "output_type": "stream",
     "text": [
      "GLOBAL NORTH LEVELS\n"
     ]
    },
    {
     "data": {
      "text/html": [
       "<style  type=\"text/css\" >\n",
       "</style><table id=\"T_97827a24_13e7_11eb_a725_3e22fb6c5c23\" ><thead>    <tr>        <th class=\"blank level0\" ></th>        <th class=\"col_heading level0 col0\" >year</th>        <th class=\"col_heading level0 col1\" >population</th>        <th class=\"col_heading level0 col2\" >income_level</th>        <th class=\"col_heading level0 col3\" >human_ideas</th>        <th class=\"col_heading level0 col4\" >resources</th>        <th class=\"col_heading level0 col5\" >eras</th>    </tr></thead><tbody>\n",
       "                <tr>\n",
       "                        <th id=\"T_97827a24_13e7_11eb_a725_3e22fb6c5c23level0_row0\" class=\"row_heading level0 row0\" >0</th>\n",
       "                        <td id=\"T_97827a24_13e7_11eb_a725_3e22fb6c5c23row0_col0\" class=\"data row0 col0\" >-68000</td>\n",
       "                        <td id=\"T_97827a24_13e7_11eb_a725_3e22fb6c5c23row0_col1\" class=\"data row0 col1\" >0.0</td>\n",
       "                        <td id=\"T_97827a24_13e7_11eb_a725_3e22fb6c5c23row0_col2\" class=\"data row0 col2\" >$1,200</td>\n",
       "                        <td id=\"T_97827a24_13e7_11eb_a725_3e22fb6c5c23row0_col3\" class=\"data row0 col3\" >379</td>\n",
       "                        <td id=\"T_97827a24_13e7_11eb_a725_3e22fb6c5c23row0_col4\" class=\"data row0 col4\" >0.000</td>\n",
       "                        <td id=\"T_97827a24_13e7_11eb_a725_3e22fb6c5c23row0_col5\" class=\"data row0 col5\" >at the dawn</td>\n",
       "            </tr>\n",
       "            <tr>\n",
       "                        <th id=\"T_97827a24_13e7_11eb_a725_3e22fb6c5c23level0_row1\" class=\"row_heading level0 row1\" >1</th>\n",
       "                        <td id=\"T_97827a24_13e7_11eb_a725_3e22fb6c5c23row1_col0\" class=\"data row1 col0\" >-8000</td>\n",
       "                        <td id=\"T_97827a24_13e7_11eb_a725_3e22fb6c5c23row1_col1\" class=\"data row1 col1\" >0.1</td>\n",
       "                        <td id=\"T_97827a24_13e7_11eb_a725_3e22fb6c5c23row1_col2\" class=\"data row1 col2\" >$1,200</td>\n",
       "                        <td id=\"T_97827a24_13e7_11eb_a725_3e22fb6c5c23row1_col3\" class=\"data row1 col3\" >1,897</td>\n",
       "                        <td id=\"T_97827a24_13e7_11eb_a725_3e22fb6c5c23row1_col4\" class=\"data row1 col4\" >0.029</td>\n",
       "                        <td id=\"T_97827a24_13e7_11eb_a725_3e22fb6c5c23row1_col5\" class=\"data row1 col5\" >agriculture & herding</td>\n",
       "            </tr>\n",
       "            <tr>\n",
       "                        <th id=\"T_97827a24_13e7_11eb_a725_3e22fb6c5c23level0_row2\" class=\"row_heading level0 row2\" >2</th>\n",
       "                        <td id=\"T_97827a24_13e7_11eb_a725_3e22fb6c5c23row2_col0\" class=\"data row2 col0\" >-6000</td>\n",
       "                        <td id=\"T_97827a24_13e7_11eb_a725_3e22fb6c5c23row2_col1\" class=\"data row2 col1\" >0.2</td>\n",
       "                        <td id=\"T_97827a24_13e7_11eb_a725_3e22fb6c5c23row2_col2\" class=\"data row2 col2\" >$900</td>\n",
       "                        <td id=\"T_97827a24_13e7_11eb_a725_3e22fb6c5c23row2_col3\" class=\"data row2 col3\" >2,012</td>\n",
       "                        <td id=\"T_97827a24_13e7_11eb_a725_3e22fb6c5c23row2_col4\" class=\"data row2 col4\" >0.029</td>\n",
       "                        <td id=\"T_97827a24_13e7_11eb_a725_3e22fb6c5c23row2_col5\" class=\"data row2 col5\" >proto-agrarian age</td>\n",
       "            </tr>\n",
       "            <tr>\n",
       "                        <th id=\"T_97827a24_13e7_11eb_a725_3e22fb6c5c23level0_row3\" class=\"row_heading level0 row3\" >3</th>\n",
       "                        <td id=\"T_97827a24_13e7_11eb_a725_3e22fb6c5c23row3_col0\" class=\"data row3 col0\" >-3000</td>\n",
       "                        <td id=\"T_97827a24_13e7_11eb_a725_3e22fb6c5c23row3_col1\" class=\"data row3 col1\" >0.5</td>\n",
       "                        <td id=\"T_97827a24_13e7_11eb_a725_3e22fb6c5c23row3_col2\" class=\"data row3 col2\" >$900</td>\n",
       "                        <td id=\"T_97827a24_13e7_11eb_a725_3e22fb6c5c23row3_col3\" class=\"data row3 col3\" >3,182</td>\n",
       "                        <td id=\"T_97827a24_13e7_11eb_a725_3e22fb6c5c23row3_col4\" class=\"data row3 col4\" >0.029</td>\n",
       "                        <td id=\"T_97827a24_13e7_11eb_a725_3e22fb6c5c23row3_col5\" class=\"data row3 col5\" >writing</td>\n",
       "            </tr>\n",
       "            <tr>\n",
       "                        <th id=\"T_97827a24_13e7_11eb_a725_3e22fb6c5c23level0_row4\" class=\"row_heading level0 row4\" >4</th>\n",
       "                        <td id=\"T_97827a24_13e7_11eb_a725_3e22fb6c5c23row4_col0\" class=\"data row4 col0\" >-1000</td>\n",
       "                        <td id=\"T_97827a24_13e7_11eb_a725_3e22fb6c5c23row4_col1\" class=\"data row4 col1\" >2.0</td>\n",
       "                        <td id=\"T_97827a24_13e7_11eb_a725_3e22fb6c5c23row4_col2\" class=\"data row4 col2\" >$900</td>\n",
       "                        <td id=\"T_97827a24_13e7_11eb_a725_3e22fb6c5c23row4_col3\" class=\"data row4 col3\" >6,364</td>\n",
       "                        <td id=\"T_97827a24_13e7_11eb_a725_3e22fb6c5c23row4_col4\" class=\"data row4 col4\" >0.029</td>\n",
       "                        <td id=\"T_97827a24_13e7_11eb_a725_3e22fb6c5c23row4_col5\" class=\"data row4 col5\" >axial age</td>\n",
       "            </tr>\n",
       "            <tr>\n",
       "                        <th id=\"T_97827a24_13e7_11eb_a725_3e22fb6c5c23level0_row5\" class=\"row_heading level0 row5\" >5</th>\n",
       "                        <td id=\"T_97827a24_13e7_11eb_a725_3e22fb6c5c23row5_col0\" class=\"data row5 col0\" >1</td>\n",
       "                        <td id=\"T_97827a24_13e7_11eb_a725_3e22fb6c5c23row5_col1\" class=\"data row5 col1\" >5.0</td>\n",
       "                        <td id=\"T_97827a24_13e7_11eb_a725_3e22fb6c5c23row5_col2\" class=\"data row5 col2\" >$900</td>\n",
       "                        <td id=\"T_97827a24_13e7_11eb_a725_3e22fb6c5c23row5_col3\" class=\"data row5 col3\" >10,062</td>\n",
       "                        <td id=\"T_97827a24_13e7_11eb_a725_3e22fb6c5c23row5_col4\" class=\"data row5 col4\" >0.029</td>\n",
       "                        <td id=\"T_97827a24_13e7_11eb_a725_3e22fb6c5c23row5_col5\" class=\"data row5 col5\" >dark & middle age slowdown</td>\n",
       "            </tr>\n",
       "            <tr>\n",
       "                        <th id=\"T_97827a24_13e7_11eb_a725_3e22fb6c5c23level0_row6\" class=\"row_heading level0 row6\" >6</th>\n",
       "                        <td id=\"T_97827a24_13e7_11eb_a725_3e22fb6c5c23row6_col0\" class=\"data row6 col0\" >1500</td>\n",
       "                        <td id=\"T_97827a24_13e7_11eb_a725_3e22fb6c5c23row6_col1\" class=\"data row6 col1\" >25.0</td>\n",
       "                        <td id=\"T_97827a24_13e7_11eb_a725_3e22fb6c5c23row6_col2\" class=\"data row6 col2\" >$1,000</td>\n",
       "                        <td id=\"T_97827a24_13e7_11eb_a725_3e22fb6c5c23row6_col3\" class=\"data row6 col3\" >25,000</td>\n",
       "                        <td id=\"T_97827a24_13e7_11eb_a725_3e22fb6c5c23row6_col4\" class=\"data row6 col4\" >0.029</td>\n",
       "                        <td id=\"T_97827a24_13e7_11eb_a725_3e22fb6c5c23row6_col5\" class=\"data row6 col5\" >commercial revolution</td>\n",
       "            </tr>\n",
       "            <tr>\n",
       "                        <th id=\"T_97827a24_13e7_11eb_a725_3e22fb6c5c23level0_row7\" class=\"row_heading level0 row7\" >7</th>\n",
       "                        <td id=\"T_97827a24_13e7_11eb_a725_3e22fb6c5c23row7_col0\" class=\"data row7 col0\" >1770</td>\n",
       "                        <td id=\"T_97827a24_13e7_11eb_a725_3e22fb6c5c23row7_col1\" class=\"data row7 col1\" >75.0</td>\n",
       "                        <td id=\"T_97827a24_13e7_11eb_a725_3e22fb6c5c23row7_col2\" class=\"data row7 col2\" >$1,400</td>\n",
       "                        <td id=\"T_97827a24_13e7_11eb_a725_3e22fb6c5c23row7_col3\" class=\"data row7 col3\" >42,867</td>\n",
       "                        <td id=\"T_97827a24_13e7_11eb_a725_3e22fb6c5c23row7_col4\" class=\"data row7 col4\" >0.059</td>\n",
       "                        <td id=\"T_97827a24_13e7_11eb_a725_3e22fb6c5c23row7_col5\" class=\"data row7 col5\" >industrial revolution</td>\n",
       "            </tr>\n",
       "            <tr>\n",
       "                        <th id=\"T_97827a24_13e7_11eb_a725_3e22fb6c5c23level0_row8\" class=\"row_heading level0 row8\" >8</th>\n",
       "                        <td id=\"T_97827a24_13e7_11eb_a725_3e22fb6c5c23row8_col0\" class=\"data row8 col0\" >1870</td>\n",
       "                        <td id=\"T_97827a24_13e7_11eb_a725_3e22fb6c5c23row8_col1\" class=\"data row8 col1\" >175.0</td>\n",
       "                        <td id=\"T_97827a24_13e7_11eb_a725_3e22fb6c5c23row8_col2\" class=\"data row8 col2\" >$2,800</td>\n",
       "                        <td id=\"T_97827a24_13e7_11eb_a725_3e22fb6c5c23row8_col3\" class=\"data row8 col3\" >106,929</td>\n",
       "                        <td id=\"T_97827a24_13e7_11eb_a725_3e22fb6c5c23row8_col4\" class=\"data row8 col4\" >0.088</td>\n",
       "                        <td id=\"T_97827a24_13e7_11eb_a725_3e22fb6c5c23row8_col5\" class=\"data row8 col5\" >modern economic growth</td>\n",
       "            </tr>\n",
       "            <tr>\n",
       "                        <th id=\"T_97827a24_13e7_11eb_a725_3e22fb6c5c23level0_row9\" class=\"row_heading level0 row9\" >9</th>\n",
       "                        <td id=\"T_97827a24_13e7_11eb_a725_3e22fb6c5c23row9_col0\" class=\"data row9 col0\" >2020</td>\n",
       "                        <td id=\"T_97827a24_13e7_11eb_a725_3e22fb6c5c23row9_col1\" class=\"data row9 col1\" >800.0</td>\n",
       "                        <td id=\"T_97827a24_13e7_11eb_a725_3e22fb6c5c23row9_col2\" class=\"data row9 col2\" >$50,000</td>\n",
       "                        <td id=\"T_97827a24_13e7_11eb_a725_3e22fb6c5c23row9_col3\" class=\"data row9 col3\" >3,580,637</td>\n",
       "                        <td id=\"T_97827a24_13e7_11eb_a725_3e22fb6c5c23row9_col4\" class=\"data row9 col4\" >0.115</td>\n",
       "                        <td id=\"T_97827a24_13e7_11eb_a725_3e22fb6c5c23row9_col5\" class=\"data row9 col5\" >whatever the 21st century brings</td>\n",
       "            </tr>\n",
       "    </tbody></table>"
      ],
      "text/plain": [
       "<pandas.io.formats.style.Styler at 0x7f9032c3d250>"
      ]
     },
     "execution_count": 4,
     "metadata": {},
     "output_type": "execute_result"
    }
   ],
   "source": [
    "# 7.1.B.2. repeating the creation of the global north dataframe:\n",
    "\n",
    "long_run_growth_list_global_north = [\n",
    "    [-68000, 0.00001, 1200, 379.47, 0.0001],\n",
    "    [-8000, 0.1, 1200, 1897.37, 0.0294],\n",
    "    [-6000, 0.2, 900, 2012.5, 0.0294],\n",
    "    [-3000, 0.5, 900, 3182, 0.0294],\n",
    "    [-1000, 2, 900, 6364.1, 0.0294],\n",
    "    [1, 5, 900, 10062.5, 0.0294],\n",
    "    [1500, 25, 1000, 25000.4, 0.0294],\n",
    "    [1770, 75, 1400, 42866.8, 0.0588],\n",
    "    [1870, 175, 2800, 106928.6, 0.0882],\n",
    "    [2020, 800, 50000, 3580637.4, 0.1147]\n",
    "    ]\n",
    "\n",
    "long_run_growth_global_north_df = pd.DataFrame(\n",
    "  data=np.array(long_run_growth_list_global_north), columns = ['year', 'population', \n",
    "  'income_level', 'human_ideas', 'resources']\n",
    "  )\n",
    "long_run_growth_global_north_df['year'] = long_run_growth_global_north_df['year'].apply(np.int64)\n",
    "\n",
    "eras = ['at the dawn', 'agriculture & herding', 'proto-agrarian age',\n",
    "        'writing', 'axial age', 'dark & middle age slowdown', 'commercial revolution',\n",
    "        'industrial revolution', 'modern economic growth', 'whatever the 21st century brings']\n",
    "\n",
    "long_run_growth_global_north_df['eras'] = eras\n",
    "\n",
    "format_dict = {'human_ideas': '{0:,.0f}', \n",
    "    'income_level': '${0:,.0f}', 'population': '{0:,.1f}','resources': '{0:,.3f}'}\n",
    "\n",
    "print('GLOBAL NORTH LEVELS')\n",
    "long_run_growth_global_north_df.style.format(format_dict)"
   ]
  },
  {
   "cell_type": "code",
   "execution_count": 5,
   "metadata": {
    "editable": "false"
   },
   "outputs": [
    {
     "name": "stdout",
     "output_type": "stream",
     "text": [
      "GLOBAL SOUTH LEVELS\n"
     ]
    },
    {
     "data": {
      "text/html": [
       "<style  type=\"text/css\" >\n",
       "</style><table id=\"T_97ff8f82_13e7_11eb_a725_3e22fb6c5c23\" ><thead>    <tr>        <th class=\"blank level0\" ></th>        <th class=\"col_heading level0 col0\" >year</th>        <th class=\"col_heading level0 col1\" >population</th>        <th class=\"col_heading level0 col2\" >income_level</th>        <th class=\"col_heading level0 col3\" >human_ideas</th>        <th class=\"col_heading level0 col4\" >resources</th>        <th class=\"col_heading level0 col5\" >eras</th>    </tr></thead><tbody>\n",
       "                <tr>\n",
       "                        <th id=\"T_97ff8f82_13e7_11eb_a725_3e22fb6c5c23level0_row0\" class=\"row_heading level0 row0\" >0</th>\n",
       "                        <td id=\"T_97ff8f82_13e7_11eb_a725_3e22fb6c5c23row0_col0\" class=\"data row0 col0\" >-68000</td>\n",
       "                        <td id=\"T_97ff8f82_13e7_11eb_a725_3e22fb6c5c23row0_col1\" class=\"data row0 col1\" >0.1</td>\n",
       "                        <td id=\"T_97ff8f82_13e7_11eb_a725_3e22fb6c5c23row0_col2\" class=\"data row0 col2\" >$1,200</td>\n",
       "                        <td id=\"T_97ff8f82_13e7_11eb_a725_3e22fb6c5c23row0_col3\" class=\"data row0 col3\" >379</td>\n",
       "                        <td id=\"T_97ff8f82_13e7_11eb_a725_3e22fb6c5c23row0_col4\" class=\"data row0 col4\" >1.000</td>\n",
       "                        <td id=\"T_97ff8f82_13e7_11eb_a725_3e22fb6c5c23row0_col5\" class=\"data row0 col5\" >at the dawn</td>\n",
       "            </tr>\n",
       "            <tr>\n",
       "                        <th id=\"T_97ff8f82_13e7_11eb_a725_3e22fb6c5c23level0_row1\" class=\"row_heading level0 row1\" >1</th>\n",
       "                        <td id=\"T_97ff8f82_13e7_11eb_a725_3e22fb6c5c23row1_col0\" class=\"data row1 col0\" >-8000</td>\n",
       "                        <td id=\"T_97ff8f82_13e7_11eb_a725_3e22fb6c5c23row1_col1\" class=\"data row1 col1\" >2.4</td>\n",
       "                        <td id=\"T_97ff8f82_13e7_11eb_a725_3e22fb6c5c23row1_col2\" class=\"data row1 col2\" >$1,200</td>\n",
       "                        <td id=\"T_97ff8f82_13e7_11eb_a725_3e22fb6c5c23row1_col3\" class=\"data row1 col3\" >1,897</td>\n",
       "                        <td id=\"T_97ff8f82_13e7_11eb_a725_3e22fb6c5c23row1_col4\" class=\"data row1 col4\" >0.971</td>\n",
       "                        <td id=\"T_97ff8f82_13e7_11eb_a725_3e22fb6c5c23row1_col5\" class=\"data row1 col5\" >agriculture & herding</td>\n",
       "            </tr>\n",
       "            <tr>\n",
       "                        <th id=\"T_97ff8f82_13e7_11eb_a725_3e22fb6c5c23level0_row2\" class=\"row_heading level0 row2\" >2</th>\n",
       "                        <td id=\"T_97ff8f82_13e7_11eb_a725_3e22fb6c5c23row2_col0\" class=\"data row2 col0\" >-6000</td>\n",
       "                        <td id=\"T_97ff8f82_13e7_11eb_a725_3e22fb6c5c23row2_col1\" class=\"data row2 col1\" >6.8</td>\n",
       "                        <td id=\"T_97ff8f82_13e7_11eb_a725_3e22fb6c5c23row2_col2\" class=\"data row2 col2\" >$900</td>\n",
       "                        <td id=\"T_97ff8f82_13e7_11eb_a725_3e22fb6c5c23row2_col3\" class=\"data row2 col3\" >2,395</td>\n",
       "                        <td id=\"T_97ff8f82_13e7_11eb_a725_3e22fb6c5c23row2_col4\" class=\"data row2 col4\" >0.971</td>\n",
       "                        <td id=\"T_97ff8f82_13e7_11eb_a725_3e22fb6c5c23row2_col5\" class=\"data row2 col5\" >proto-agrarian age</td>\n",
       "            </tr>\n",
       "            <tr>\n",
       "                        <th id=\"T_97ff8f82_13e7_11eb_a725_3e22fb6c5c23level0_row3\" class=\"row_heading level0 row3\" >3</th>\n",
       "                        <td id=\"T_97ff8f82_13e7_11eb_a725_3e22fb6c5c23row3_col0\" class=\"data row3 col0\" >-3000</td>\n",
       "                        <td id=\"T_97ff8f82_13e7_11eb_a725_3e22fb6c5c23row3_col1\" class=\"data row3 col1\" >14.5</td>\n",
       "                        <td id=\"T_97ff8f82_13e7_11eb_a725_3e22fb6c5c23row3_col2\" class=\"data row3 col2\" >$900</td>\n",
       "                        <td id=\"T_97ff8f82_13e7_11eb_a725_3e22fb6c5c23row3_col3\" class=\"data row3 col3\" >3,498</td>\n",
       "                        <td id=\"T_97ff8f82_13e7_11eb_a725_3e22fb6c5c23row3_col4\" class=\"data row3 col4\" >0.971</td>\n",
       "                        <td id=\"T_97ff8f82_13e7_11eb_a725_3e22fb6c5c23row3_col5\" class=\"data row3 col5\" >writing</td>\n",
       "            </tr>\n",
       "            <tr>\n",
       "                        <th id=\"T_97ff8f82_13e7_11eb_a725_3e22fb6c5c23level0_row4\" class=\"row_heading level0 row4\" >4</th>\n",
       "                        <td id=\"T_97ff8f82_13e7_11eb_a725_3e22fb6c5c23row4_col0\" class=\"data row4 col0\" >-1000</td>\n",
       "                        <td id=\"T_97ff8f82_13e7_11eb_a725_3e22fb6c5c23row4_col1\" class=\"data row4 col1\" >48.0</td>\n",
       "                        <td id=\"T_97ff8f82_13e7_11eb_a725_3e22fb6c5c23row4_col2\" class=\"data row4 col2\" >$900</td>\n",
       "                        <td id=\"T_97ff8f82_13e7_11eb_a725_3e22fb6c5c23row4_col3\" class=\"data row4 col3\" >6,364</td>\n",
       "                        <td id=\"T_97ff8f82_13e7_11eb_a725_3e22fb6c5c23row4_col4\" class=\"data row4 col4\" >0.971</td>\n",
       "                        <td id=\"T_97ff8f82_13e7_11eb_a725_3e22fb6c5c23row4_col5\" class=\"data row4 col5\" >axial age</td>\n",
       "            </tr>\n",
       "            <tr>\n",
       "                        <th id=\"T_97ff8f82_13e7_11eb_a725_3e22fb6c5c23level0_row5\" class=\"row_heading level0 row5\" >5</th>\n",
       "                        <td id=\"T_97ff8f82_13e7_11eb_a725_3e22fb6c5c23row5_col0\" class=\"data row5 col0\" >1</td>\n",
       "                        <td id=\"T_97ff8f82_13e7_11eb_a725_3e22fb6c5c23row5_col1\" class=\"data row5 col1\" >165.0</td>\n",
       "                        <td id=\"T_97ff8f82_13e7_11eb_a725_3e22fb6c5c23row5_col2\" class=\"data row5 col2\" >$900</td>\n",
       "                        <td id=\"T_97ff8f82_13e7_11eb_a725_3e22fb6c5c23row5_col3\" class=\"data row5 col3\" >11,799</td>\n",
       "                        <td id=\"T_97ff8f82_13e7_11eb_a725_3e22fb6c5c23row5_col4\" class=\"data row5 col4\" >0.971</td>\n",
       "                        <td id=\"T_97ff8f82_13e7_11eb_a725_3e22fb6c5c23row5_col5\" class=\"data row5 col5\" >dark & middle age slowdown</td>\n",
       "            </tr>\n",
       "            <tr>\n",
       "                        <th id=\"T_97ff8f82_13e7_11eb_a725_3e22fb6c5c23level0_row6\" class=\"row_heading level0 row6\" >6</th>\n",
       "                        <td id=\"T_97ff8f82_13e7_11eb_a725_3e22fb6c5c23row6_col0\" class=\"data row6 col0\" >1500</td>\n",
       "                        <td id=\"T_97ff8f82_13e7_11eb_a725_3e22fb6c5c23row6_col1\" class=\"data row6 col1\" >475.0</td>\n",
       "                        <td id=\"T_97ff8f82_13e7_11eb_a725_3e22fb6c5c23row6_col2\" class=\"data row6 col2\" >$900</td>\n",
       "                        <td id=\"T_97ff8f82_13e7_11eb_a725_3e22fb6c5c23row6_col3\" class=\"data row6 col3\" >20,020</td>\n",
       "                        <td id=\"T_97ff8f82_13e7_11eb_a725_3e22fb6c5c23row6_col4\" class=\"data row6 col4\" >0.971</td>\n",
       "                        <td id=\"T_97ff8f82_13e7_11eb_a725_3e22fb6c5c23row6_col5\" class=\"data row6 col5\" >commercial revolution</td>\n",
       "            </tr>\n",
       "            <tr>\n",
       "                        <th id=\"T_97ff8f82_13e7_11eb_a725_3e22fb6c5c23level0_row7\" class=\"row_heading level0 row7\" >7</th>\n",
       "                        <td id=\"T_97ff8f82_13e7_11eb_a725_3e22fb6c5c23row7_col0\" class=\"data row7 col0\" >1770</td>\n",
       "                        <td id=\"T_97ff8f82_13e7_11eb_a725_3e22fb6c5c23row7_col1\" class=\"data row7 col1\" >675.0</td>\n",
       "                        <td id=\"T_97ff8f82_13e7_11eb_a725_3e22fb6c5c23row7_col2\" class=\"data row7 col2\" >$1,070</td>\n",
       "                        <td id=\"T_97ff8f82_13e7_11eb_a725_3e22fb6c5c23row7_col3\" class=\"data row7 col3\" >29,387</td>\n",
       "                        <td id=\"T_97ff8f82_13e7_11eb_a725_3e22fb6c5c23row7_col4\" class=\"data row7 col4\" >0.941</td>\n",
       "                        <td id=\"T_97ff8f82_13e7_11eb_a725_3e22fb6c5c23row7_col5\" class=\"data row7 col5\" >industrial revolution</td>\n",
       "            </tr>\n",
       "            <tr>\n",
       "                        <th id=\"T_97ff8f82_13e7_11eb_a725_3e22fb6c5c23level0_row8\" class=\"row_heading level0 row8\" >8</th>\n",
       "                        <td id=\"T_97ff8f82_13e7_11eb_a725_3e22fb6c5c23row8_col0\" class=\"data row8 col0\" >1870</td>\n",
       "                        <td id=\"T_97ff8f82_13e7_11eb_a725_3e22fb6c5c23row8_col1\" class=\"data row8 col1\" >1,125.0</td>\n",
       "                        <td id=\"T_97ff8f82_13e7_11eb_a725_3e22fb6c5c23row8_col2\" class=\"data row8 col2\" >$1,000</td>\n",
       "                        <td id=\"T_97ff8f82_13e7_11eb_a725_3e22fb6c5c23row8_col3\" class=\"data row8 col3\" >36,173</td>\n",
       "                        <td id=\"T_97ff8f82_13e7_11eb_a725_3e22fb6c5c23row8_col4\" class=\"data row8 col4\" >0.912</td>\n",
       "                        <td id=\"T_97ff8f82_13e7_11eb_a725_3e22fb6c5c23row8_col5\" class=\"data row8 col5\" >modern economic growth</td>\n",
       "            </tr>\n",
       "            <tr>\n",
       "                        <th id=\"T_97ff8f82_13e7_11eb_a725_3e22fb6c5c23level0_row9\" class=\"row_heading level0 row9\" >9</th>\n",
       "                        <td id=\"T_97ff8f82_13e7_11eb_a725_3e22fb6c5c23row9_col0\" class=\"data row9 col0\" >2020</td>\n",
       "                        <td id=\"T_97ff8f82_13e7_11eb_a725_3e22fb6c5c23row9_col1\" class=\"data row9 col1\" >6,800.0</td>\n",
       "                        <td id=\"T_97ff8f82_13e7_11eb_a725_3e22fb6c5c23row9_col2\" class=\"data row9 col2\" >$7,700</td>\n",
       "                        <td id=\"T_97ff8f82_13e7_11eb_a725_3e22fb6c5c23row9_col3\" class=\"data row9 col3\" >693,806</td>\n",
       "                        <td id=\"T_97ff8f82_13e7_11eb_a725_3e22fb6c5c23row9_col4\" class=\"data row9 col4\" >0.885</td>\n",
       "                        <td id=\"T_97ff8f82_13e7_11eb_a725_3e22fb6c5c23row9_col5\" class=\"data row9 col5\" >whatever the 21st century brings</td>\n",
       "            </tr>\n",
       "    </tbody></table>"
      ],
      "text/plain": [
       "<pandas.io.formats.style.Styler at 0x7f9032c40650>"
      ]
     },
     "execution_count": 5,
     "metadata": {},
     "output_type": "execute_result"
    }
   ],
   "source": [
    "# 7.1.B.3. repeating the creation of the global south dataframe:\n",
    "\n",
    "long_run_growth_list_global_south = [\n",
    "    [-68000, 0.1, 1200, 379.47, 0.9999],\n",
    "    [-8000, 2.4, 1200, 1897.37, 0.971],\n",
    "    [-6000, 6.8, 900, 2395.3, 0.971],\n",
    "    [-3000, 14.5, 900, 3497.9, 0.971],\n",
    "    [-1000, 48, 900, 6364.1, 0.971],\n",
    "    [1, 165, 900, 11799.4, 0.971],\n",
    "    [1500, 475, 900, 20019.9, 0.971],\n",
    "    [1770, 675, 1070, 29386.7, 0.9412],\n",
    "    [1870, 1125, 1000, 36172.8, 0.9118],\n",
    "    [2020, 6800, 7700, 693805.9, 0.8853]\n",
    "    ]\n",
    "\n",
    "long_run_growth_global_south_df = pd.DataFrame(\n",
    "  data=np.array(long_run_growth_list_global_south), columns = ['year', 'population', \n",
    "  'income_level', 'human_ideas', 'resources']\n",
    "  )\n",
    "long_run_growth_global_south_df['year'] = long_run_growth_global_south_df['year'].apply(np.int64)\n",
    "\n",
    "eras = ['at the dawn', 'agriculture & herding', 'proto-agrarian age',\n",
    "        'writing', 'axial age', 'dark & middle age slowdown', 'commercial revolution',\n",
    "        'industrial revolution', 'modern economic growth', 'whatever the 21st century brings']\n",
    "\n",
    "long_run_growth_global_south_df['eras'] = eras\n",
    "\n",
    "format_dict = {'human_ideas': '{0:,.0f}', \n",
    "    'income_level': '${0:,.0f}', 'population': '{0:,.1f}','resources': '{0:,.3f}'}\n",
    "\n",
    "print('GLOBAL SOUTH LEVELS')\n",
    "long_run_growth_global_south_df.style.format(format_dict)"
   ]
  },
  {
   "cell_type": "markdown",
   "metadata": {
    "editable": "false"
   },
   "source": [
    "&nbsp;\n",
    "\n",
    "# 7.2. Pulling numbers out of dataframes\n",
    "\n",
    "Suppose we want to pull a number out of a dataframe—say the 7700 average income level in the global south in 2020. How do we do this? The next code cell provides an example:"
   ]
  },
  {
   "cell_type": "code",
   "execution_count": 6,
   "metadata": {
    "editable": "false"
   },
   "outputs": [
    {
     "data": {
      "text/plain": [
       "7700.0"
      ]
     },
     "execution_count": 6,
     "metadata": {},
     "output_type": "execute_result"
    }
   ],
   "source": [
    "# 7.2.1. pulling out global south average income in 2020\n",
    "\n",
    "long_run_growth_global_south_df['income_level'][9]"
   ]
  },
  {
   "cell_type": "markdown",
   "metadata": {
    "editable": "false"
   },
   "source": [
    "That is all there is to it. It is a three-step process:\n",
    "\n",
    "1. Tell the python interpreter what dataframe the number is in \"long_run_growth_global_south_df\"\n",
    "2. Tell the python interpreter the variable—the column—the number belongs to by stating the column's name as a string inside brackets: \"['income_level']\"\n",
    "3. Tell the python interpreter the observation—the row—the number belongs to by stating the row number inside brackets: \"[9]\"\n",
    "\n",
    "You may ask: why is the column name a string that must go inside quotation marks, while the row name is a number that cannot go inside quotation marks—for doing the wrong thing with either will generate an error? There is no good answer.\n",
    "\n",
    "Now let us get some practice with this. This should be, if I have gauged the situation right, be trivial for rather more than half the class, and easily doable for the rest.\n",
    "\n",
    "First, in the next cell, write code to pull out the year-1500 value of income per capita for the world as a whole, assign it to the variable world_income_1500, and then print it out:"
   ]
  },
  {
   "cell_type": "code",
   "execution_count": 7,
   "metadata": {},
   "outputs": [
    {
     "name": "stdout",
     "output_type": "stream",
     "text": [
      "900.0 is the average income per capita in the world in 1500\n"
     ]
    }
   ],
   "source": [
    "# 7.2.2. pulling out world average income in 1500\n",
    "\n",
    "world_income_1500 = ...\n",
    "\n",
    "print(world_income_1500, \"is the average income per capita in the world in 1500\")"
   ]
  },
  {
   "cell_type": "markdown",
   "metadata": {},
   "source": [
    "Did the code cell above print, below itself: \"900.0 is the average income per capita in the world in 1500\"? If not, go back and try to figure out what you did wrong. If yes, proceed.\n",
    "\n",
    "Now can you pull out the value of the ideas stock deployed in the global north in 1870? Do so in the code cell below:"
   ]
  },
  {
   "cell_type": "code",
   "execution_count": 8,
   "metadata": {},
   "outputs": [
    {
     "name": "stdout",
     "output_type": "stream",
     "text": [
      "106928.6 is the level of ideas used by the global north in 1870\n"
     ]
    }
   ],
   "source": [
    "# 7.2.3. pulling out global north ideas stock in 1870\n",
    "\n",
    "global_north_ideas_1870 = ...\n",
    "\n",
    "print(global_north_ideas_1870, \"is the level of ideas used by the global north in 1870\")"
   ]
  },
  {
   "cell_type": "markdown",
   "metadata": {},
   "source": [
    "Did you succeed in pulling out 106928.6?\n",
    "\n",
    "An expression like \"long_run_growth_global_north_df['human_ideas'][8]\" is a number—it is the number in the 8th row of the \"human_ideas\" column of the \"long_run_growth_global_north_df\" dataframe. You can do anything with it that you can do with a number. In particular, you can do calculations with it. In particular, you can divide it by another number.\n",
    "\n",
    "So in the code cell below, do so: calculate what the value of ideas deployed in the global north was relative to those deployed in the global south in year 1 by dividing the global-north ideas value by the global-south ideas value:"
   ]
  },
  {
   "cell_type": "code",
   "execution_count": 9,
   "metadata": {},
   "outputs": [
    {
     "name": "stdout",
     "output_type": "stream",
     "text": [
      "0.8527975998779599 is the north-south ratio of the value of ideas in year 1\n"
     ]
    }
   ],
   "source": [
    "# 7.2.4. global north ideas divided by global south ideas in year 1\n",
    "\n",
    "north_south_ideas_ratio_1 = ...\n",
    "\n",
    "print(north_south_ideas_ratio_1, \"is the north-south ratio of the value of ideas in year 1\")"
   ]
  },
  {
   "cell_type": "markdown",
   "metadata": {},
   "source": [
    "Now let us march down the dataframes: in the four code cells below, do the analogous calculations for the years 1500, 1770, 1870, and 2020 to see how the region that was to become the heart of the global north developed a deployed-technology edge over the rest of the world between the year 1 and today:"
   ]
  },
  {
   "cell_type": "code",
   "execution_count": 10,
   "metadata": {},
   "outputs": [
    {
     "name": "stdout",
     "output_type": "stream",
     "text": [
      "1.2487774664209113 is the north-south ratio of the value of ideas in 1500\n"
     ]
    }
   ],
   "source": [
    "# 7.2.5. global north ideas divided by global south ideas in year 1500\n",
    "\n",
    "north_south_ideas_ratio_1500 = ...\n",
    "\n",
    "print(north_south_ideas_ratio_1500, \"is the north-south ratio of the value of ideas in 1500\")"
   ]
  },
  {
   "cell_type": "code",
   "execution_count": 11,
   "metadata": {},
   "outputs": [
    {
     "name": "stdout",
     "output_type": "stream",
     "text": [
      "1.4587143163403853 is the north-south ratio of the value of ideas in 1770\n"
     ]
    }
   ],
   "source": [
    "# 7.2.6. global north ideas divided by global south ideas in year 1770\n",
    "\n",
    "north_south_ideas_ratio_1770 = ...\n",
    "\n",
    "print(north_south_ideas_ratio_1770, \"is the north-south ratio of the value of ideas in 1770\")"
   ]
  },
  {
   "cell_type": "code",
   "execution_count": 12,
   "metadata": {},
   "outputs": [
    {
     "name": "stdout",
     "output_type": "stream",
     "text": [
      "2.956049849610757 is the north-south ratio of the value of ideas in 1870\n"
     ]
    }
   ],
   "source": [
    "# 7.2.7. global north ideas divided by global south ideas in year 1870\n",
    "\n",
    "north_south_ideas_ratio_1870 = ...\n",
    "\n",
    "print(north_south_ideas_ratio_1870, \"is the north-south ratio of the value of ideas in 1870\")"
   ]
  },
  {
   "cell_type": "code",
   "execution_count": 13,
   "metadata": {},
   "outputs": [
    {
     "name": "stdout",
     "output_type": "stream",
     "text": [
      "5.1608632904390115 is the north-south ratio of the value of ideas in 2020\n"
     ]
    }
   ],
   "source": [
    "# 7.2.8. global north ideas divided by global south ideas in year 2020\n",
    "\n",
    "north_south_ideas_ratio_2020 = ...\n",
    "\n",
    "print(north_south_ideas_ratio_2020, \"is the north-south ratio of the value of ideas in 2020\")"
   ]
  },
  {
   "cell_type": "markdown",
   "metadata": {
    "editable": "false"
   },
   "source": [
    "By now you should have five numbers, covering the period from year 1 to 2020: 0.85, 1.25, 1.45, 2.96, 5.16. "
   ]
  },
  {
   "cell_type": "markdown",
   "metadata": {},
   "source": [
    "What would happen if you tried to divide not one number by another number, but divide one column from a dataframe by another column from another dataframe? Let's see:"
   ]
  },
  {
   "cell_type": "code",
   "execution_count": 14,
   "metadata": {
    "editable": "false"
   },
   "outputs": [
    {
     "name": "stdout",
     "output_type": "stream",
     "text": [
      "0    1.000000\n",
      "1    1.000000\n",
      "2    0.840187\n",
      "3    0.909689\n",
      "4    1.000000\n",
      "5    0.852798\n",
      "6    1.248777\n",
      "7    1.458714\n",
      "8    2.956050\n",
      "9    5.160863\n",
      "Name: human_ideas, dtype: float64 is the ideas-ratio series\n"
     ]
    }
   ],
   "source": [
    "# 7.2.9. dividing one series by another element-by-element\n",
    "\n",
    "n_s_ideas_ratio = long_run_growth_global_north_df['human_ideas']/long_run_growth_global_south_df['human_ideas']\n",
    "\n",
    "print(n_s_ideas_ratio, 'is the ideas-ratio series')"
   ]
  },
  {
   "cell_type": "markdown",
   "metadata": {},
   "source": [
    "We now have all of the ideas-ratio quotients from the year -68000 to today in a series, where we can refer to all of them together, or pick out one. In the next code cell, pick out from this series the ideas ratio for the year -3000:"
   ]
  },
  {
   "cell_type": "code",
   "execution_count": 15,
   "metadata": {},
   "outputs": [
    {
     "name": "stdout",
     "output_type": "stream",
     "text": [
      "0.9096886703450642 is the ideas ratio for the year -3000\n"
     ]
    }
   ],
   "source": [
    "# 7.2.10. picking out the ideas-ratio value for the year -3000\n",
    "\n",
    "n_s_ideas_ratio_minus_3000 = ...\n",
    "\n",
    "print(n_s_ideas_ratio_minus_3000, 'is the ideas ratio for the year -3000')"
   ]
  },
  {
   "cell_type": "markdown",
   "metadata": {},
   "source": [
    "In dividing two columns from different dataframes, we have lost track of the year variable—it is no longer included and attached. So let us add it back in by making a tiny dataframe consisting of our \"which year this is\" series and our ideas-ratio series by using pandas.concat:"
   ]
  },
  {
   "cell_type": "code",
   "execution_count": 16,
   "metadata": {
    "editable": "false"
   },
   "outputs": [
    {
     "data": {
      "text/html": [
       "<div>\n",
       "<style scoped>\n",
       "    .dataframe tbody tr th:only-of-type {\n",
       "        vertical-align: middle;\n",
       "    }\n",
       "\n",
       "    .dataframe tbody tr th {\n",
       "        vertical-align: top;\n",
       "    }\n",
       "\n",
       "    .dataframe thead th {\n",
       "        text-align: right;\n",
       "    }\n",
       "</style>\n",
       "<table border=\"1\" class=\"dataframe\">\n",
       "  <thead>\n",
       "    <tr style=\"text-align: right;\">\n",
       "      <th></th>\n",
       "      <th>year</th>\n",
       "      <th>human_ideas</th>\n",
       "    </tr>\n",
       "  </thead>\n",
       "  <tbody>\n",
       "    <tr>\n",
       "      <th>0</th>\n",
       "      <td>-68000</td>\n",
       "      <td>1.000000</td>\n",
       "    </tr>\n",
       "    <tr>\n",
       "      <th>1</th>\n",
       "      <td>-8000</td>\n",
       "      <td>1.000000</td>\n",
       "    </tr>\n",
       "    <tr>\n",
       "      <th>2</th>\n",
       "      <td>-6000</td>\n",
       "      <td>0.840187</td>\n",
       "    </tr>\n",
       "    <tr>\n",
       "      <th>3</th>\n",
       "      <td>-3000</td>\n",
       "      <td>0.909689</td>\n",
       "    </tr>\n",
       "    <tr>\n",
       "      <th>4</th>\n",
       "      <td>-1000</td>\n",
       "      <td>1.000000</td>\n",
       "    </tr>\n",
       "    <tr>\n",
       "      <th>5</th>\n",
       "      <td>1</td>\n",
       "      <td>0.852798</td>\n",
       "    </tr>\n",
       "    <tr>\n",
       "      <th>6</th>\n",
       "      <td>1500</td>\n",
       "      <td>1.248777</td>\n",
       "    </tr>\n",
       "    <tr>\n",
       "      <th>7</th>\n",
       "      <td>1770</td>\n",
       "      <td>1.458714</td>\n",
       "    </tr>\n",
       "    <tr>\n",
       "      <th>8</th>\n",
       "      <td>1870</td>\n",
       "      <td>2.956050</td>\n",
       "    </tr>\n",
       "    <tr>\n",
       "      <th>9</th>\n",
       "      <td>2020</td>\n",
       "      <td>5.160863</td>\n",
       "    </tr>\n",
       "  </tbody>\n",
       "</table>\n",
       "</div>"
      ],
      "text/plain": [
       "    year  human_ideas\n",
       "0 -68000     1.000000\n",
       "1  -8000     1.000000\n",
       "2  -6000     0.840187\n",
       "3  -3000     0.909689\n",
       "4  -1000     1.000000\n",
       "5      1     0.852798\n",
       "6   1500     1.248777\n",
       "7   1770     1.458714\n",
       "8   1870     2.956050\n",
       "9   2020     5.160863"
      ]
     },
     "execution_count": 16,
     "metadata": {},
     "output_type": "execute_result"
    }
   ],
   "source": [
    "# 7.2.10. creating a tiny dataframe\n",
    "\n",
    "n_s_ideas_ratio_df = pd.concat([long_run_growth_global_north_df['year'], n_s_ideas_ratio], axis=1)\n",
    "\n",
    "n_s_ideas_ratio_df"
   ]
  },
  {
   "cell_type": "markdown",
   "metadata": {},
   "source": [
    "Note that it might be clearer what we are doing if, instead of carrying the index row number 0-9 around, we used the 'year' column as an index itself:"
   ]
  },
  {
   "cell_type": "code",
   "execution_count": 17,
   "metadata": {
    "editable": "false"
   },
   "outputs": [
    {
     "data": {
      "text/html": [
       "<div>\n",
       "<style scoped>\n",
       "    .dataframe tbody tr th:only-of-type {\n",
       "        vertical-align: middle;\n",
       "    }\n",
       "\n",
       "    .dataframe tbody tr th {\n",
       "        vertical-align: top;\n",
       "    }\n",
       "\n",
       "    .dataframe thead th {\n",
       "        text-align: right;\n",
       "    }\n",
       "</style>\n",
       "<table border=\"1\" class=\"dataframe\">\n",
       "  <thead>\n",
       "    <tr style=\"text-align: right;\">\n",
       "      <th></th>\n",
       "      <th>human_ideas</th>\n",
       "    </tr>\n",
       "    <tr>\n",
       "      <th>year</th>\n",
       "      <th></th>\n",
       "    </tr>\n",
       "  </thead>\n",
       "  <tbody>\n",
       "    <tr>\n",
       "      <th>-68000</th>\n",
       "      <td>1.000000</td>\n",
       "    </tr>\n",
       "    <tr>\n",
       "      <th>-8000</th>\n",
       "      <td>1.000000</td>\n",
       "    </tr>\n",
       "    <tr>\n",
       "      <th>-6000</th>\n",
       "      <td>0.840187</td>\n",
       "    </tr>\n",
       "    <tr>\n",
       "      <th>-3000</th>\n",
       "      <td>0.909689</td>\n",
       "    </tr>\n",
       "    <tr>\n",
       "      <th>-1000</th>\n",
       "      <td>1.000000</td>\n",
       "    </tr>\n",
       "    <tr>\n",
       "      <th>1</th>\n",
       "      <td>0.852798</td>\n",
       "    </tr>\n",
       "    <tr>\n",
       "      <th>1500</th>\n",
       "      <td>1.248777</td>\n",
       "    </tr>\n",
       "    <tr>\n",
       "      <th>1770</th>\n",
       "      <td>1.458714</td>\n",
       "    </tr>\n",
       "    <tr>\n",
       "      <th>1870</th>\n",
       "      <td>2.956050</td>\n",
       "    </tr>\n",
       "    <tr>\n",
       "      <th>2020</th>\n",
       "      <td>5.160863</td>\n",
       "    </tr>\n",
       "  </tbody>\n",
       "</table>\n",
       "</div>"
      ],
      "text/plain": [
       "        human_ideas\n",
       "year               \n",
       "-68000     1.000000\n",
       "-8000      1.000000\n",
       "-6000      0.840187\n",
       "-3000      0.909689\n",
       "-1000      1.000000\n",
       " 1         0.852798\n",
       " 1500      1.248777\n",
       " 1770      1.458714\n",
       " 1870      2.956050\n",
       " 2020      5.160863"
      ]
     },
     "execution_count": 17,
     "metadata": {},
     "output_type": "execute_result"
    }
   ],
   "source": [
    "# 7.2.11. changing the index to the 'year' column\n",
    "\n",
    "n_s_ideas_ratio_df.set_index('year', inplace=True)\n",
    "\n",
    "n_s_ideas_ratio_df"
   ]
  },
  {
   "cell_type": "markdown",
   "metadata": {},
   "source": [
    "Then, when we wanted to refer to the value for the year -8000, we would not have to remember which row of the table corresponds to the year -8000, but simply specify that in place of the row number;"
   ]
  },
  {
   "cell_type": "code",
   "execution_count": 18,
   "metadata": {
    "editable": "false"
   },
   "outputs": [
    {
     "data": {
      "text/plain": [
       "1.0"
      ]
     },
     "execution_count": 18,
     "metadata": {},
     "output_type": "execute_result"
    }
   ],
   "source": [
    "# 7.2.12. referring to entries by year rather than by row number\n",
    "\n",
    "n_s_ideas_ratio_df['human_ideas'][-8000]"
   ]
  },
  {
   "cell_type": "markdown",
   "metadata": {},
   "source": [
    "A problem is that we then have lost the ability to access the year column as a series of numbers, since it is now the index:"
   ]
  },
  {
   "cell_type": "code",
   "execution_count": 19,
   "metadata": {
    "editable": "false"
   },
   "outputs": [
    {
     "ename": "KeyError",
     "evalue": "'year'",
     "output_type": "error",
     "traceback": [
      "\u001b[0;31m---------------------------------------------------------------------------\u001b[0m",
      "\u001b[0;31mKeyError\u001b[0m                                  Traceback (most recent call last)",
      "\u001b[0;32m~/opt/anaconda3/lib/python3.7/site-packages/pandas/core/indexes/base.py\u001b[0m in \u001b[0;36mget_loc\u001b[0;34m(self, key, method, tolerance)\u001b[0m\n\u001b[1;32m   2645\u001b[0m             \u001b[0;32mtry\u001b[0m\u001b[0;34m:\u001b[0m\u001b[0;34m\u001b[0m\u001b[0;34m\u001b[0m\u001b[0m\n\u001b[0;32m-> 2646\u001b[0;31m                 \u001b[0;32mreturn\u001b[0m \u001b[0mself\u001b[0m\u001b[0;34m.\u001b[0m\u001b[0m_engine\u001b[0m\u001b[0;34m.\u001b[0m\u001b[0mget_loc\u001b[0m\u001b[0;34m(\u001b[0m\u001b[0mkey\u001b[0m\u001b[0;34m)\u001b[0m\u001b[0;34m\u001b[0m\u001b[0;34m\u001b[0m\u001b[0m\n\u001b[0m\u001b[1;32m   2647\u001b[0m             \u001b[0;32mexcept\u001b[0m \u001b[0mKeyError\u001b[0m\u001b[0;34m:\u001b[0m\u001b[0;34m\u001b[0m\u001b[0;34m\u001b[0m\u001b[0m\n",
      "\u001b[0;32mpandas/_libs/index.pyx\u001b[0m in \u001b[0;36mpandas._libs.index.IndexEngine.get_loc\u001b[0;34m()\u001b[0m\n",
      "\u001b[0;32mpandas/_libs/index.pyx\u001b[0m in \u001b[0;36mpandas._libs.index.IndexEngine.get_loc\u001b[0;34m()\u001b[0m\n",
      "\u001b[0;32mpandas/_libs/hashtable_class_helper.pxi\u001b[0m in \u001b[0;36mpandas._libs.hashtable.PyObjectHashTable.get_item\u001b[0;34m()\u001b[0m\n",
      "\u001b[0;32mpandas/_libs/hashtable_class_helper.pxi\u001b[0m in \u001b[0;36mpandas._libs.hashtable.PyObjectHashTable.get_item\u001b[0;34m()\u001b[0m\n",
      "\u001b[0;31mKeyError\u001b[0m: 'year'",
      "\nDuring handling of the above exception, another exception occurred:\n",
      "\u001b[0;31mKeyError\u001b[0m                                  Traceback (most recent call last)",
      "\u001b[0;32m<ipython-input-19-f2d2a1b2e275>\u001b[0m in \u001b[0;36m<module>\u001b[0;34m\u001b[0m\n\u001b[1;32m      1\u001b[0m \u001b[0;31m# 7.2.13. generating an error message\u001b[0m\u001b[0;34m\u001b[0m\u001b[0;34m\u001b[0m\u001b[0;34m\u001b[0m\u001b[0m\n\u001b[1;32m      2\u001b[0m \u001b[0;34m\u001b[0m\u001b[0m\n\u001b[0;32m----> 3\u001b[0;31m \u001b[0mn_s_ideas_ratio_df\u001b[0m\u001b[0;34m[\u001b[0m\u001b[0;34m'year'\u001b[0m\u001b[0;34m]\u001b[0m\u001b[0;34m[\u001b[0m\u001b[0;34m-\u001b[0m\u001b[0;36m8000\u001b[0m\u001b[0;34m]\u001b[0m\u001b[0;34m\u001b[0m\u001b[0;34m\u001b[0m\u001b[0m\n\u001b[0m",
      "\u001b[0;32m~/opt/anaconda3/lib/python3.7/site-packages/pandas/core/frame.py\u001b[0m in \u001b[0;36m__getitem__\u001b[0;34m(self, key)\u001b[0m\n\u001b[1;32m   2798\u001b[0m             \u001b[0;32mif\u001b[0m \u001b[0mself\u001b[0m\u001b[0;34m.\u001b[0m\u001b[0mcolumns\u001b[0m\u001b[0;34m.\u001b[0m\u001b[0mnlevels\u001b[0m \u001b[0;34m>\u001b[0m \u001b[0;36m1\u001b[0m\u001b[0;34m:\u001b[0m\u001b[0;34m\u001b[0m\u001b[0;34m\u001b[0m\u001b[0m\n\u001b[1;32m   2799\u001b[0m                 \u001b[0;32mreturn\u001b[0m \u001b[0mself\u001b[0m\u001b[0;34m.\u001b[0m\u001b[0m_getitem_multilevel\u001b[0m\u001b[0;34m(\u001b[0m\u001b[0mkey\u001b[0m\u001b[0;34m)\u001b[0m\u001b[0;34m\u001b[0m\u001b[0;34m\u001b[0m\u001b[0m\n\u001b[0;32m-> 2800\u001b[0;31m             \u001b[0mindexer\u001b[0m \u001b[0;34m=\u001b[0m \u001b[0mself\u001b[0m\u001b[0;34m.\u001b[0m\u001b[0mcolumns\u001b[0m\u001b[0;34m.\u001b[0m\u001b[0mget_loc\u001b[0m\u001b[0;34m(\u001b[0m\u001b[0mkey\u001b[0m\u001b[0;34m)\u001b[0m\u001b[0;34m\u001b[0m\u001b[0;34m\u001b[0m\u001b[0m\n\u001b[0m\u001b[1;32m   2801\u001b[0m             \u001b[0;32mif\u001b[0m \u001b[0mis_integer\u001b[0m\u001b[0;34m(\u001b[0m\u001b[0mindexer\u001b[0m\u001b[0;34m)\u001b[0m\u001b[0;34m:\u001b[0m\u001b[0;34m\u001b[0m\u001b[0;34m\u001b[0m\u001b[0m\n\u001b[1;32m   2802\u001b[0m                 \u001b[0mindexer\u001b[0m \u001b[0;34m=\u001b[0m \u001b[0;34m[\u001b[0m\u001b[0mindexer\u001b[0m\u001b[0;34m]\u001b[0m\u001b[0;34m\u001b[0m\u001b[0;34m\u001b[0m\u001b[0m\n",
      "\u001b[0;32m~/opt/anaconda3/lib/python3.7/site-packages/pandas/core/indexes/base.py\u001b[0m in \u001b[0;36mget_loc\u001b[0;34m(self, key, method, tolerance)\u001b[0m\n\u001b[1;32m   2646\u001b[0m                 \u001b[0;32mreturn\u001b[0m \u001b[0mself\u001b[0m\u001b[0;34m.\u001b[0m\u001b[0m_engine\u001b[0m\u001b[0;34m.\u001b[0m\u001b[0mget_loc\u001b[0m\u001b[0;34m(\u001b[0m\u001b[0mkey\u001b[0m\u001b[0;34m)\u001b[0m\u001b[0;34m\u001b[0m\u001b[0;34m\u001b[0m\u001b[0m\n\u001b[1;32m   2647\u001b[0m             \u001b[0;32mexcept\u001b[0m \u001b[0mKeyError\u001b[0m\u001b[0;34m:\u001b[0m\u001b[0;34m\u001b[0m\u001b[0;34m\u001b[0m\u001b[0m\n\u001b[0;32m-> 2648\u001b[0;31m                 \u001b[0;32mreturn\u001b[0m \u001b[0mself\u001b[0m\u001b[0;34m.\u001b[0m\u001b[0m_engine\u001b[0m\u001b[0;34m.\u001b[0m\u001b[0mget_loc\u001b[0m\u001b[0;34m(\u001b[0m\u001b[0mself\u001b[0m\u001b[0;34m.\u001b[0m\u001b[0m_maybe_cast_indexer\u001b[0m\u001b[0;34m(\u001b[0m\u001b[0mkey\u001b[0m\u001b[0;34m)\u001b[0m\u001b[0;34m)\u001b[0m\u001b[0;34m\u001b[0m\u001b[0;34m\u001b[0m\u001b[0m\n\u001b[0m\u001b[1;32m   2649\u001b[0m         \u001b[0mindexer\u001b[0m \u001b[0;34m=\u001b[0m \u001b[0mself\u001b[0m\u001b[0;34m.\u001b[0m\u001b[0mget_indexer\u001b[0m\u001b[0;34m(\u001b[0m\u001b[0;34m[\u001b[0m\u001b[0mkey\u001b[0m\u001b[0;34m]\u001b[0m\u001b[0;34m,\u001b[0m \u001b[0mmethod\u001b[0m\u001b[0;34m=\u001b[0m\u001b[0mmethod\u001b[0m\u001b[0;34m,\u001b[0m \u001b[0mtolerance\u001b[0m\u001b[0;34m=\u001b[0m\u001b[0mtolerance\u001b[0m\u001b[0;34m)\u001b[0m\u001b[0;34m\u001b[0m\u001b[0;34m\u001b[0m\u001b[0m\n\u001b[1;32m   2650\u001b[0m         \u001b[0;32mif\u001b[0m \u001b[0mindexer\u001b[0m\u001b[0;34m.\u001b[0m\u001b[0mndim\u001b[0m \u001b[0;34m>\u001b[0m \u001b[0;36m1\u001b[0m \u001b[0;32mor\u001b[0m \u001b[0mindexer\u001b[0m\u001b[0;34m.\u001b[0m\u001b[0msize\u001b[0m \u001b[0;34m>\u001b[0m \u001b[0;36m1\u001b[0m\u001b[0;34m:\u001b[0m\u001b[0;34m\u001b[0m\u001b[0;34m\u001b[0m\u001b[0m\n",
      "\u001b[0;32mpandas/_libs/index.pyx\u001b[0m in \u001b[0;36mpandas._libs.index.IndexEngine.get_loc\u001b[0;34m()\u001b[0m\n",
      "\u001b[0;32mpandas/_libs/index.pyx\u001b[0m in \u001b[0;36mpandas._libs.index.IndexEngine.get_loc\u001b[0;34m()\u001b[0m\n",
      "\u001b[0;32mpandas/_libs/hashtable_class_helper.pxi\u001b[0m in \u001b[0;36mpandas._libs.hashtable.PyObjectHashTable.get_item\u001b[0;34m()\u001b[0m\n",
      "\u001b[0;32mpandas/_libs/hashtable_class_helper.pxi\u001b[0m in \u001b[0;36mpandas._libs.hashtable.PyObjectHashTable.get_item\u001b[0;34m()\u001b[0m\n",
      "\u001b[0;31mKeyError\u001b[0m: 'year'"
     ]
    }
   ],
   "source": [
    "# 7.2.13. generating an error message\n",
    "\n",
    "n_s_ideas_ratio_df['year'][-8000]"
   ]
  },
  {
   "cell_type": "markdown",
   "metadata": {},
   "source": [
    "We have just generated an error: the python interpreter could not find a dataframe column-variable named 'year' because we transformed it into an index.\n",
    "\n",
    "If we want to have the year lying around in the dataframe so that we can do math with it, we have to add it back in;"
   ]
  },
  {
   "cell_type": "code",
   "execution_count": 20,
   "metadata": {
    "editable": "false"
   },
   "outputs": [
    {
     "data": {
      "text/html": [
       "<div>\n",
       "<style scoped>\n",
       "    .dataframe tbody tr th:only-of-type {\n",
       "        vertical-align: middle;\n",
       "    }\n",
       "\n",
       "    .dataframe tbody tr th {\n",
       "        vertical-align: top;\n",
       "    }\n",
       "\n",
       "    .dataframe thead th {\n",
       "        text-align: right;\n",
       "    }\n",
       "</style>\n",
       "<table border=\"1\" class=\"dataframe\">\n",
       "  <thead>\n",
       "    <tr style=\"text-align: right;\">\n",
       "      <th></th>\n",
       "      <th>human_ideas</th>\n",
       "      <th>year</th>\n",
       "    </tr>\n",
       "    <tr>\n",
       "      <th>year</th>\n",
       "      <th></th>\n",
       "      <th></th>\n",
       "    </tr>\n",
       "  </thead>\n",
       "  <tbody>\n",
       "    <tr>\n",
       "      <th>-68000</th>\n",
       "      <td>1.000000</td>\n",
       "      <td>-68000</td>\n",
       "    </tr>\n",
       "    <tr>\n",
       "      <th>-8000</th>\n",
       "      <td>1.000000</td>\n",
       "      <td>-8000</td>\n",
       "    </tr>\n",
       "    <tr>\n",
       "      <th>-6000</th>\n",
       "      <td>0.840187</td>\n",
       "      <td>-6000</td>\n",
       "    </tr>\n",
       "    <tr>\n",
       "      <th>-3000</th>\n",
       "      <td>0.909689</td>\n",
       "      <td>-3000</td>\n",
       "    </tr>\n",
       "    <tr>\n",
       "      <th>-1000</th>\n",
       "      <td>1.000000</td>\n",
       "      <td>-1000</td>\n",
       "    </tr>\n",
       "    <tr>\n",
       "      <th>1</th>\n",
       "      <td>0.852798</td>\n",
       "      <td>1</td>\n",
       "    </tr>\n",
       "    <tr>\n",
       "      <th>1500</th>\n",
       "      <td>1.248777</td>\n",
       "      <td>1500</td>\n",
       "    </tr>\n",
       "    <tr>\n",
       "      <th>1770</th>\n",
       "      <td>1.458714</td>\n",
       "      <td>1770</td>\n",
       "    </tr>\n",
       "    <tr>\n",
       "      <th>1870</th>\n",
       "      <td>2.956050</td>\n",
       "      <td>1870</td>\n",
       "    </tr>\n",
       "    <tr>\n",
       "      <th>2020</th>\n",
       "      <td>5.160863</td>\n",
       "      <td>2020</td>\n",
       "    </tr>\n",
       "  </tbody>\n",
       "</table>\n",
       "</div>"
      ],
      "text/plain": [
       "        human_ideas   year\n",
       "year                      \n",
       "-68000     1.000000 -68000\n",
       "-8000      1.000000  -8000\n",
       "-6000      0.840187  -6000\n",
       "-3000      0.909689  -3000\n",
       "-1000      1.000000  -1000\n",
       " 1         0.852798      1\n",
       " 1500      1.248777   1500\n",
       " 1770      1.458714   1770\n",
       " 1870      2.956050   1870\n",
       " 2020      5.160863   2020"
      ]
     },
     "execution_count": 20,
     "metadata": {},
     "output_type": "execute_result"
    }
   ],
   "source": [
    "# 7.2.14. adding the year back in\n",
    "\n",
    "n_s_ideas_ratio_df['year'] = [-68000, -8000, -6000, -3000, -1000, 1, 1500, 1770, 1870, 2020]\n",
    "\n",
    "n_s_ideas_ratio_df"
   ]
  },
  {
   "cell_type": "markdown",
   "metadata": {},
   "source": [
    "&nbsp;\n",
    "\n",
    "# 7.3. Exponential growth\n",
    "\n",
    "A number of people ran into problems on problem set 3 calculating growth rates. So here is some math review in python—this should be, if I have gauged the situation right, be trivial for rather more than half the class, and easily doable for the rest.\n",
    "\n",
    "Let us start with a quantity $ Y $ equal to 1 in our initial year—call it year 0: $Y_0 = 1$. Suppose that each year it grows by 1%: that when we move from year n to year n+1, we multiply the year-n value by 1.01 to get the year n+1 value: $ Y_{n+1} = (1.01)Y_n $\n",
    "\n",
    "What then will the value of Y be in the 70th year? What is $ Y_{70} $?\n",
    "\n",
    "Well:\n",
    "\n",
    "$ Y_0 = 1 $     \n",
    "$ Y_1 = (1.01)Y_0 = 1.01 $    \n",
    "$ Y_2 = (1.01)(1.01)Y_0 = (1.01)^2Y_0 = 1.0201 $    \n",
    "$ Y_3 = (1.01)(1.01)(1.01)Y_0 = (1.01)^3Y_0 = 1.030301 $    \n",
    "$ Y_4 = (1.01)(1.01)(1.01)(1.01)Y_0 = (1.01)^4Y_0 = 1.04060401 $    \n",
    "$ Y_5 = (1.01)(1.01)(1.01)(1.01)(1.01)Y_0 = (1.01)^5Y_0 = 1.0510100501 $\n",
    "\n",
    "and so on, multiplying by a factor 1.01 each year. This is the kind of thing computers are made for:"
   ]
  },
  {
   "cell_type": "code",
   "execution_count": 21,
   "metadata": {
    "editable": "false"
   },
   "outputs": [
    {
     "name": "stdout",
     "output_type": "stream",
     "text": [
      "1 1.01\n",
      "2 1.0201\n",
      "3 1.030301\n",
      "4 1.04060401\n",
      "5 1.0510100501\n",
      "6 1.061520150601\n",
      "7 1.0721353521070098\n",
      "8 1.08285670562808\n",
      "9 1.0936852726843609\n",
      "10 1.1046221254112045\n",
      "11 1.1156683466653166\n",
      "12 1.1268250301319698\n",
      "13 1.1380932804332895\n",
      "14 1.1494742132376223\n",
      "15 1.1609689553699987\n",
      "16 1.1725786449236986\n",
      "17 1.1843044313729356\n",
      "18 1.196147475686665\n",
      "19 1.2081089504435316\n",
      "20 1.220190039947967\n",
      "21 1.2323919403474468\n",
      "22 1.2447158597509214\n",
      "23 1.2571630183484306\n",
      "24 1.269734648531915\n",
      "25 1.282431995017234\n",
      "26 1.2952563149674063\n",
      "27 1.3082088781170804\n",
      "28 1.3212909668982513\n",
      "29 1.334503876567234\n",
      "30 1.3478489153329063\n",
      "31 1.3613274044862353\n",
      "32 1.3749406785310978\n",
      "33 1.3886900853164088\n",
      "34 1.402576986169573\n",
      "35 1.4166027560312686\n",
      "36 1.4307687835915812\n",
      "37 1.445076471427497\n",
      "38 1.4595272361417722\n",
      "39 1.47412250850319\n",
      "40 1.4888637335882218\n",
      "41 1.503752370924104\n",
      "42 1.5187898946333451\n",
      "43 1.5339777935796786\n",
      "44 1.5493175715154754\n",
      "45 1.5648107472306303\n",
      "46 1.5804588547029366\n",
      "47 1.596263443249966\n",
      "48 1.6122260776824657\n",
      "49 1.6283483384592905\n",
      "50 1.6446318218438833\n",
      "51 1.6610781400623222\n",
      "52 1.6776889214629456\n",
      "53 1.694465810677575\n",
      "54 1.7114104687843508\n",
      "55 1.7285245734721943\n",
      "56 1.7458098192069162\n",
      "57 1.7632679173989854\n",
      "58 1.7809005965729752\n",
      "59 1.798709602538705\n",
      "60 1.8166966985640922\n",
      "61 1.8348636655497332\n",
      "62 1.8532123022052305\n",
      "63 1.8717444252272828\n",
      "64 1.8904618694795556\n",
      "65 1.9093664881743513\n",
      "66 1.9284601530560948\n",
      "67 1.9477447545866557\n",
      "68 1.9672222021325223\n",
      "69 1.9868944241538475\n",
      "70 2.006763368395386\n"
     ]
    }
   ],
   "source": [
    "# 7.3.1. looping to calculate Y_{70}:\n",
    "\n",
    "Y = 1\n",
    "\n",
    "for i in range(1,71):\n",
    "    Y = 1.01*Y\n",
    "    print(i, Y)"
   ]
  },
  {
   "cell_type": "markdown",
   "metadata": {},
   "source": [
    "But we could have done this calculation in one line:"
   ]
  },
  {
   "cell_type": "code",
   "execution_count": 22,
   "metadata": {
    "editable": "false"
   },
   "outputs": [
    {
     "name": "stdout",
     "output_type": "stream",
     "text": [
      "2.006763368395385\n"
     ]
    }
   ],
   "source": [
    "# 7.3.2. exponentiation to calculate Y_{70}:\n",
    "\n",
    "Y = 1.01**70\n",
    "\n",
    "print(Y)"
   ]
  },
  {
   "cell_type": "markdown",
   "metadata": {},
   "source": [
    "It takes a hair under 70 years for a quantity growing exponentially at the rate of 1% per year to double. If we write T for the doubling time and subscript it by the growth rate, we have:\n",
    "\n",
    "$ T_{1\\%} = 70 $"
   ]
  },
  {
   "cell_type": "markdown",
   "metadata": {},
   "source": [
    "In general, if we have a quantity Y which starts at our baseline time—call it 0—at some value $ Y_0 $, and if it grows at a rate g, then after T years it will be:\n",
    "\n",
    "$ Y_T = Y_0 (1 + g)^T $ \n",
    "\n",
    "And if we want, we can express this in logarithms—which turn exponentiation into multiplication, and multiplication into addition, thus:\n",
    "\n",
    "$ ln(Y_T) = ln(Y_0) + T[ln(1+g)] $"
   ]
  },
  {
   "cell_type": "markdown",
   "metadata": {},
   "source": [
    "Let's go back to doubling times.\n",
    "\n",
    "Now suppose that we wanted to find out how long a time T it takes a quantity growing at some other rate—2% or 3% or 5% or 9%/year—to double. We could do it by trial-and-error for each growth rate. We could stare at the equation:\n",
    "\n",
    "$ 2 = (1 + g\\%)^{T_{g\\%}} $\n",
    "\n",
    "and try to figure out how to solve it.\n",
    "\n",
    "It is much simpler to solve if we look at the logarithmic form:\n",
    "\n",
    "$ ln(2) = \\left[ln(1 + g\\%)\\right]{T_{g\\%}} $\n",
    "\n",
    "and then simply solve:\n",
    "\n",
    "$ {T_{g\\%}} = \\frac{ln(2)}{ln(1 + g\\%)} $\n",
    "\n",
    "We know that $ ln(2) = 0.693147 $. And we also know that $ ln(1 + g\\%) $ will be very close to g%. Ho close? Let's see:"
   ]
  },
  {
   "cell_type": "code",
   "execution_count": 36,
   "metadata": {},
   "outputs": [
    {
     "name": "stdout",
     "output_type": "stream",
     "text": [
      "g    ln(1+g)              (g - ln(1+g))/g       :: description\n",
      "0.01 0.009950330853168092 0.004966914683190819  :: comparing g% and ln(1+g%) for g= 1.0 %\n"
     ]
    }
   ],
   "source": [
    "# 7.3.3. g% & ln(1+g%) for g = 0.01\n",
    "\n",
    "g = 0.01\n",
    "\n",
    "print(\"g    ln(1+g)              (g - ln(1+g))/g       :: description\")\n",
    "print(g, np.log(1+g), (g-np.log(1+g))/g, \" :: comparing g% and ln(1+g%) for g=\", 100*g,\"%\")"
   ]
  },
  {
   "cell_type": "markdown",
   "metadata": {},
   "source": [
    "Very, very close, no? The difference between .01 and .00995 is only one part in 200. For g=10% the difference between g and ln(1+g) is less than one part in 20. For growth rates of more than 10%/year, you might find your calculations considerably off if you ignore the fact that $ g ≠ ln(1+g) $. But for growth rates of less than 10%/year, you won't be considerably off if you just assume that $ g = ln(1+g) $.\n",
    "\n",
    "So what is the true doubling time for a growth rate of 1% per year? We can use the exact equation: $ {T_{g\\%}} = \\frac{ln(2)}{ln(1 + g\\%)} $ for g = 1%/year. Do the calculation in the next code cell, remembering that 'np.log' is the pandas log function:\n",
    "\n",
    "Now, in the next code cell, fill in the loop to print out the same three numbers—g, ln(1+g), and the proportional difference between g and ln(1+g)—for g assuming values from 1% to 2% to 3% and on up to 10%:"
   ]
  },
  {
   "cell_type": "code",
   "execution_count": 24,
   "metadata": {},
   "outputs": [
    {
     "name": "stdout",
     "output_type": "stream",
     "text": [
      "69.66071689357483 is the exact doubling time for a 1%/year growth rate\n"
     ]
    }
   ],
   "source": [
    "# 7.3.4. exact doubling time for 1%/year growth rate:\n",
    "\n",
    "exact_doubling_time_for_1_percent = ...\n",
    "\n",
    "print(exact_doubling_time_for_1_percent, \"is the exact doubling time for a 1%/year growth rate\")"
   ]
  },
  {
   "cell_type": "markdown",
   "metadata": {},
   "source": [
    "69.6607 years, no?\n",
    "\n",
    "Now program up a loop to calculate exact doubling times for g equal to 1%, 2%, 3%, and so forth up to 10%/year:"
   ]
  },
  {
   "cell_type": "code",
   "execution_count": 25,
   "metadata": {},
   "outputs": [
    {
     "name": "stdout",
     "output_type": "stream",
     "text": [
      "69.66071689357483 years is the actual doubling time for an annual growth rate of 1 %/year\n",
      "35.0027887811465 years is the actual doubling time for an annual growth rate of 2 %/year\n",
      "23.449772250437736 years is the actual doubling time for an annual growth rate of 3 %/year\n",
      "17.672987685129698 years is the actual doubling time for an annual growth rate of 4 %/year\n",
      "14.206699082890461 years is the actual doubling time for an annual growth rate of 5 %/year\n",
      "11.895661045941875 years is the actual doubling time for an annual growth rate of 6 %/year\n",
      "10.244768351058712 years is the actual doubling time for an annual growth rate of 7 %/year\n",
      "9.006468342000588 years is the actual doubling time for an annual growth rate of 8 %/year\n",
      "8.043231726932046 years is the actual doubling time for an annual growth rate of 9 %/year\n",
      "7.272540897341713 years is the actual doubling time for an annual growth rate of 10 %/year\n"
     ]
    }
   ],
   "source": [
    "# 7.3.5. exact doubling times for g from 1% to 10%/year\n",
    "\n",
    "# for i in range...\n",
    "#    g = ...\n",
    "#    T = ...\n",
    "#    print(T, \"years is the actual doubling time for an annual growth rate of\", i, \"%/year\")\n",
    "\n",
    "for i in range(1,11):  # delete before publishing\n",
    "    g = 0.01 * i  # delete before publishing\n",
    "    T = np.log(2)/np.log(1+g)  # delete before publishing\n",
    "    print(T, \"years is the actual doubling time for an annual growth rate of\", i, \"%/year\")  # delete before publishing"
   ]
  },
  {
   "cell_type": "markdown",
   "metadata": {},
   "source": [
    "Note that for a growth rate of 8% per year the product of the growth rate and the doubling time is:"
   ]
  },
  {
   "cell_type": "code",
   "execution_count": 26,
   "metadata": {},
   "outputs": [
    {
     "data": {
      "text/plain": [
       "72.0517467360047"
      ]
     },
     "execution_count": 26,
     "metadata": {},
     "output_type": "execute_result"
    }
   ],
   "source": [
    "# 7.3.6. doubling time multiplied by growth rate\n",
    "\n",
    "8*np.log(2)/np.log(1+0.08)"
   ]
  },
  {
   "cell_type": "markdown",
   "metadata": {},
   "source": [
    "In fact, for all ten of the growth rates, if you multiply the growth rate in percent by the doubling time you get:\n"
   ]
  },
  {
   "cell_type": "code",
   "execution_count": 27,
   "metadata": {},
   "outputs": [
    {
     "name": "stdout",
     "output_type": "stream",
     "text": [
      "69.66071689357483 is the product of the doubling time and the growth rate for 1 %/year\n",
      "70.005577562293 is the product of the doubling time and the growth rate for 2 %/year\n",
      "70.34931675131321 is the product of the doubling time and the growth rate for 3 %/year\n",
      "70.69195074051879 is the product of the doubling time and the growth rate for 4 %/year\n",
      "71.0334954144523 is the product of the doubling time and the growth rate for 5 %/year\n",
      "71.37396627565124 is the product of the doubling time and the growth rate for 6 %/year\n",
      "71.71337845741098 is the product of the doubling time and the growth rate for 7 %/year\n",
      "72.0517467360047 is the product of the doubling time and the growth rate for 8 %/year\n",
      "72.38908554238841 is the product of the doubling time and the growth rate for 9 %/year\n",
      "72.72540897341713 is the product of the doubling time and the growth rate for 10 %/year\n"
     ]
    }
   ],
   "source": [
    "# 7.3.7. doubling times multiplied by growth rates\n",
    "\n",
    "for i in range...\n",
    "    g = ...\n",
    "    T = ...\n",
    "    print(T, \"is the product of the doubling time and the growth rate for a growth rate of\", i, \"%/year\")"
   ]
  },
  {
   "cell_type": "markdown",
   "metadata": {},
   "source": [
    "Hence the rule-of-thumb called the **Rule of 72**. Want to know how long it takes a quantity growing exponentially to double? Take the number 72, and divide it by the growth rate in percent per year. That is, approximately, how long it takes to double."
   ]
  },
  {
   "cell_type": "markdown",
   "metadata": {},
   "source": [
    "Conversely, if you have a quantity Y that starts in the year 1500 at a value of $Y_{1500} = 1.11 $ and that is thereafter growing at an annual rate of 0.1997%/year, you can calculate its value $ Y_{2020} $ in the current year using the equation:\n",
    "\n",
    "$ Y_T = Y_0 (1 + g\\%)^T $\n",
    "\n",
    "Where T, the number of years for which it grows, is 520; and where the growth rate g = 0.1997%/year to get:"
   ]
  },
  {
   "cell_type": "code",
   "execution_count": 28,
   "metadata": {},
   "outputs": [
    {
     "data": {
      "text/plain": [
       "3.1322904539355982"
      ]
     },
     "execution_count": 28,
     "metadata": {},
     "output_type": "execute_result"
    }
   ],
   "source": [
    "# 7.3.8. calculating the answer to f in problem set 3\n",
    "\n",
    "Y_2020 = 1.11 * 1.001997**520\n",
    "\n",
    "Y_2020"
   ]
  },
  {
   "cell_type": "markdown",
   "metadata": {},
   "source": [
    "That was supposed to be the answer to # 3.2.C.6.f. in problem set 3—from the 1.11 in part (a), the 0.001997 growth rate calculated in part (e), and the 520 years between 1500 and 2020. Yet many fewer people got that answer than should have."
   ]
  },
  {
   "cell_type": "markdown",
   "metadata": {},
   "source": [
    "And if you have a quantity that has a value $Y_0$ in some baseline year 0 and a value $Y_T$ T years later, you can calculate its growth rate over that span using the equation, approximately:\n",
    "\n",
    "$ g = \\frac{ln(Y_T/Y_0)}{T} $\n",
    "\n",
    "or, exactly:\n",
    "\n",
    "$ ln(1+g) = \\frac{ln(Y_T/Y_0)}{T} $"
   ]
  },
  {
   "cell_type": "markdown",
   "metadata": {},
   "source": [
    "&nbsp;\n",
    "\n",
    "## 4. Ungraded!\n",
    "\n",
    "Now, for a final, extra, ungraded task of this problem set, recall the evolution over time of the north-south ratio of the value of their ideas stocks that we calculated at the end of part  of this problem set:"
   ]
  },
  {
   "cell_type": "code",
   "execution_count": 29,
   "metadata": {},
   "outputs": [
    {
     "data": {
      "text/html": [
       "<div>\n",
       "<style scoped>\n",
       "    .dataframe tbody tr th:only-of-type {\n",
       "        vertical-align: middle;\n",
       "    }\n",
       "\n",
       "    .dataframe tbody tr th {\n",
       "        vertical-align: top;\n",
       "    }\n",
       "\n",
       "    .dataframe thead th {\n",
       "        text-align: right;\n",
       "    }\n",
       "</style>\n",
       "<table border=\"1\" class=\"dataframe\">\n",
       "  <thead>\n",
       "    <tr style=\"text-align: right;\">\n",
       "      <th></th>\n",
       "      <th>human_ideas</th>\n",
       "      <th>year</th>\n",
       "    </tr>\n",
       "    <tr>\n",
       "      <th>year</th>\n",
       "      <th></th>\n",
       "      <th></th>\n",
       "    </tr>\n",
       "  </thead>\n",
       "  <tbody>\n",
       "    <tr>\n",
       "      <th>-68000</th>\n",
       "      <td>1.000000</td>\n",
       "      <td>-68000</td>\n",
       "    </tr>\n",
       "    <tr>\n",
       "      <th>-8000</th>\n",
       "      <td>1.000000</td>\n",
       "      <td>-8000</td>\n",
       "    </tr>\n",
       "    <tr>\n",
       "      <th>-6000</th>\n",
       "      <td>0.840187</td>\n",
       "      <td>-6000</td>\n",
       "    </tr>\n",
       "    <tr>\n",
       "      <th>-3000</th>\n",
       "      <td>0.909689</td>\n",
       "      <td>-3000</td>\n",
       "    </tr>\n",
       "    <tr>\n",
       "      <th>-1000</th>\n",
       "      <td>1.000000</td>\n",
       "      <td>-1000</td>\n",
       "    </tr>\n",
       "    <tr>\n",
       "      <th>1</th>\n",
       "      <td>0.852798</td>\n",
       "      <td>1</td>\n",
       "    </tr>\n",
       "    <tr>\n",
       "      <th>1500</th>\n",
       "      <td>1.248777</td>\n",
       "      <td>1500</td>\n",
       "    </tr>\n",
       "    <tr>\n",
       "      <th>1770</th>\n",
       "      <td>1.458714</td>\n",
       "      <td>1770</td>\n",
       "    </tr>\n",
       "    <tr>\n",
       "      <th>1870</th>\n",
       "      <td>2.956050</td>\n",
       "      <td>1870</td>\n",
       "    </tr>\n",
       "    <tr>\n",
       "      <th>2020</th>\n",
       "      <td>5.160863</td>\n",
       "      <td>2020</td>\n",
       "    </tr>\n",
       "  </tbody>\n",
       "</table>\n",
       "</div>"
      ],
      "text/plain": [
       "        human_ideas   year\n",
       "year                      \n",
       "-68000     1.000000 -68000\n",
       "-8000      1.000000  -8000\n",
       "-6000      0.840187  -6000\n",
       "-3000      0.909689  -3000\n",
       "-1000      1.000000  -1000\n",
       " 1         0.852798      1\n",
       " 1500      1.248777   1500\n",
       " 1770      1.458714   1770\n",
       " 1870      2.956050   1870\n",
       " 2020      5.160863   2020"
      ]
     },
     "execution_count": 29,
     "metadata": {},
     "output_type": "execute_result"
    }
   ],
   "source": [
    "# 7.3.9. recalling the north-south ideas ratio\n",
    "\n",
    "\n",
    "n_s_ideas_ratio_df"
   ]
  },
  {
   "cell_type": "markdown",
   "metadata": {},
   "source": [
    "Calculate and stuff into a list called \"growth\" the difference between the global north and the global south in the growth rates of their respective ideas stocks for each of the periods into which we have divided our history. Don't spend too much time on this—I want to know how many people can simply write down a correct answer quickly, and how many cannot:"
   ]
  },
  {
   "cell_type": "code",
   "execution_count": 30,
   "metadata": {},
   "outputs": [
    {
     "data": {
      "text/plain": [
       "[1.6666666666666667e-05,\n",
       " 0.00018193773406901284,\n",
       " 0.0005496385920804526,\n",
       " 0.0008519456542237362,\n",
       " 0.0009768715267594148,\n",
       " 0.004326347777206362,\n",
       " 0.02026476203391819,\n",
       " 0.011639098465854305]"
      ]
     },
     "execution_count": 30,
     "metadata": {},
     "output_type": "execute_result"
    }
   ],
   "source": [
    "# 7.3.10. calculate the difference in ideas stocks\n",
    "\n",
    "date = [-68000, -8000, -3000, -1000, 1, 1500, 1770, 1870, 2020]\n",
    "growth = []\n",
    "    \n",
    "for i in range(8):\n",
    "    growth = growth + [(n_s_ideas_ratio_df['human_ideas'][date[i+1]]/n_s_ideas_ratio_df['human_ideas'][date[i]]/\n",
    "                       (date[i+1]-date[i]))] # delete before publishing\n",
    "    \n",
    "growth"
   ]
  },
  {
   "cell_type": "markdown",
   "metadata": {},
   "source": [
    "(**Note**: Let me leave you with one last piece of information that you may find useful if it takes T years for a quantity to double, it takes only ten times as long—10T years—for it to multiply a thousandfold...)"
   ]
  },
  {
   "cell_type": "markdown",
   "metadata": {},
   "source": [
    "======================================================"
   ]
  },
  {
   "cell_type": "code",
   "execution_count": 31,
   "metadata": {},
   "outputs": [
    {
     "name": "stdout",
     "output_type": "stream",
     "text": [
      "900.0 is the average income per capita in the world in 1500\n",
      "106928.6 is the level of ideas used by the global north in 1870\n",
      "0.8527975998779599 is the north-south ratio of the value of ideas in year 1\n",
      "1.2487774664209113 is the north-south ratio of the value of ideas in year 1500\n",
      "1.4587143163403853 is the north-south ratio of the value of ideas in year 1770\n",
      "2.956049849610757 is the north-south ratio of the value of ideas in year 1870\n",
      "5.1608632904390115 is the north-south ratio of the value of ideas in year 2020\n",
      "0    1.000000\n",
      "1    1.000000\n",
      "2    0.840187\n",
      "3    0.909689\n",
      "4    1.000000\n",
      "5    0.852798\n",
      "6    1.248777\n",
      "7    1.458714\n",
      "8    2.956050\n",
      "9    5.160863\n",
      "Name: human_ideas, dtype: float64 is the ideas-ratio series\n",
      "0.9096886703450642 is the ideas ratio for the year -3000\n",
      "69.66071689357483 is the exact doubling time for a 1%/year growth rate\n",
      "[1.6666666666666667e-05, 0.00018193773406901284, 0.0005496385920804526, 0.0008519456542237362, 0.0009768715267594148, 0.004326347777206362, 0.02026476203391819, 0.011639098465854305] ideas difference growth rate list\n"
     ]
    }
   ],
   "source": [
    "# summary calculations cell\n",
    "\n",
    "print(world_income_1500, \"is the average income per capita in the world in 1500\")\n",
    "print(global_north_ideas_1870, \"is the level of ideas used by the global north in 1870\")\n",
    "print(north_south_ideas_ratio_1, \"is the north-south ratio of the value of ideas in year 1\")\n",
    "print(north_south_ideas_ratio_1500, \"is the north-south ratio of the value of ideas in year 1500\")\n",
    "print(north_south_ideas_ratio_1770, \"is the north-south ratio of the value of ideas in year 1770\")\n",
    "print(north_south_ideas_ratio_1870, \"is the north-south ratio of the value of ideas in year 1870\")\n",
    "print(north_south_ideas_ratio_2020, \"is the north-south ratio of the value of ideas in year 2020\")\n",
    "print(n_s_ideas_ratio, 'is the ideas-ratio series')\n",
    "print(n_s_ideas_ratio_minus_3000, 'is the ideas ratio for the year -3000')\n",
    "print(exact_doubling_time_for_1_percent, \"is the exact doubling time for a 1%/year growth rate\")\n",
    "print(\"ideas difference growth rate list:\")\n",
    "growth"
   ]
  },
  {
   "cell_type": "markdown",
   "metadata": {},
   "source": [
    "## 5. Done!\n",
    "\n",
    "Print your finished notebook to pdf, and upload it as an answer on the problem set 7 assignment page. URL: "
   ]
  },
  {
   "cell_type": "markdown",
   "metadata": {},
   "source": [
    "## 6. Appendix Programming Dos and Don'ts...\n",
    "\n",
    "### A Running List...\n",
    "\n",
    "1. **Do** restart your kernel and run cells up to your current working point every fifteen minutes or so. Yes, it takes a little time. But if you don't, sooner or later the machine's namespace will get confused, and then you will get confused about the state of the machine's namespace, and by assuming things about it that are false you will lose hours and hours...   \n",
    "&nbsp;\n",
    "\n",
    "2. **Do** reload the page when restarting the kernel does not seem to do the job...   \n",
    "&nbsp;\n",
    "\n",
    "3. **Do** edit code cells by copying them below your current version and then working on the copy: when you break everything in the current cell (as you will), you can then go back to the old cell and start fresh...   \n",
    "&nbsp;\n",
    "\n",
    "4. **Do** exercise agile development practices: if there is a line of code that you have not tested, test it. The best way to test is to ask the machine to echo back to you the thing you have just created in its namespace to make sure that it is what you want it to be. Only after you are **certain** that your namespace contains what you think it does should you write the next line of code. And then you should immediately test it...   \n",
    "&nbsp;\n",
    "\n",
    "5. **Do** take screenshots of your error messages...   \n",
    "&nbsp;\n",
    "\n",
    "6. **Do** google your error messages: Ms. Google is your best friend here...   \n",
    "&nbsp;\n",
    "\n",
    "7. **Do not** confuse assignment (\"=\") and test for equality (\"==\"). In general, if there is an \"if\" anywhere nearby, you should be testing for equality. If there is not, you should be assignment a variable in your namespace to a value. **Do** curse the mathematicians 500 years ago who did not realize that in the twenty-first century it would be very convenient if we had different and not confusable symbols for equals-as-assignment and equals-as-test...   \n",
    "&nbsp;\n",
    "\n",
    "----\n",
    "\n",
    "&nbsp;\n",
    "\n",
    "**Thanks to**: Rachel Grossberg, Christopher Hench, Meghana Krishnakumer, Seth Lloyd, Ronald Walker..."
   ]
  },
  {
   "cell_type": "markdown",
   "metadata": {},
   "source": [
    "----\n",
    "\n",
    "&nbsp;\n",
    "\n",
    "## <font color=\"880000\"> Review: Dataframe Access & Exponential Growth </font>\n",
    "\n",
    "<img src=\"https://tinyurl.com/20190119a-delong\" width=\"300\" style=\"float:right\" />\n",
    "\n",
    "### <font color=\"000088\">Catch Our Breath—Further Notes:</font>\n",
    "\n",
    "<br clear=\"all\" />\n",
    "\n",
    "----\n",
    "\n",
    "\n",
    "\n",
    "&nbsp;\n",
    "\n",
    "----"
   ]
  }
 ],
 "metadata": {
  "kernelspec": {
   "display_name": "Python 3",
   "language": "python",
   "name": "python3"
  },
  "language_info": {
   "codemirror_mode": {
    "name": "ipython",
    "version": 3
   },
   "file_extension": ".py",
   "mimetype": "text/x-python",
   "name": "python",
   "nbconvert_exporter": "python",
   "pygments_lexer": "ipython3",
   "version": "3.7.7"
  }
 },
 "nbformat": 4,
 "nbformat_minor": 4
}
