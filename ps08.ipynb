{
 "cells": [
  {
   "cell_type": "markdown",
   "metadata": {},
   "source": [
    "# Problem set 8. Governance & Prosperity\n",
    "\n",
    "## 0. Background\n",
    "\n",
    "These problem set assignments are a required part of the course.\n",
    "\n",
    "Collaborating on the problem sets is more than okay—it is encouraged! Seek help from a classmate or an instructor or a roommate or a passerby when you get stuck! (Explaining things is beneficial, too—the best way to solidify your knowledge of a subject is to explain it.) \n",
    "\n",
    "But the work should be your own.\n",
    "\n",
    "No cutting-&-pasting from others' problem sets, please! We want you to learn this stuff, and your fingers typing every keystroke is an important way of building muscle memory here.\n",
    "\n",
    "In this problem set, you will investigate whether quality of governance is an important cause or consequence of prosperity. This problem set is adapted from one at Quantecon, by John Stachurski and Thomas Sargent: _Linear Regression in Python_ <https://python.quantecon.org/ols.html>\n",
    "\n",
    "This is an odd problem set. I lead you through the analysis, but there is relatively little programming for you to do. Thus grading will be based overwhelmingly on the 250-500 word answer you give in 6.D, interpreting the analysis I have led you through.\n",
    "\n",
    "Let us get started!\n",
    "\n",
    "&nbsp;"
   ]
  },
  {
   "cell_type": "markdown",
   "metadata": {},
   "source": [
    "## 1. Preliminaries: Computing Environment\n",
    "\n",
    "First, we set up the computing environment with the libraries we need: "
   ]
  },
  {
   "cell_type": "code",
   "execution_count": 1,
   "metadata": {},
   "outputs": [],
   "source": [
    "# 8.1.1. set up the computing environment: ensure that graphs\n",
    "# appear inline in the notebook & not in extra windows:\n",
    "\n",
    "%matplotlib inline"
   ]
  },
  {
   "cell_type": "code",
   "execution_count": 2,
   "metadata": {},
   "outputs": [],
   "source": [
    "# 8.1.2. set up the computing environment: import standard libraries\n",
    "\n",
    "import numpy as np\n",
    "import pandas as pd\n",
    "import matplotlib as mpl\n",
    "import matplotlib.pyplot as plt"
   ]
  },
  {
   "cell_type": "code",
   "execution_count": 3,
   "metadata": {},
   "outputs": [
    {
     "name": "stdout",
     "output_type": "stream",
     "text": [
      "Requirement already satisfied: linearmodels in /Users/braddelong/opt/anaconda3/lib/python3.7/site-packages (4.17)\n",
      "Requirement already satisfied: scipy>=1 in /Users/braddelong/opt/anaconda3/lib/python3.7/site-packages (from linearmodels) (1.4.1)\n",
      "Requirement already satisfied: Cython>=0.29.14 in /Users/braddelong/opt/anaconda3/lib/python3.7/site-packages (from linearmodels) (0.29.17)\n",
      "Requirement already satisfied: pandas>=0.23 in /Users/braddelong/opt/anaconda3/lib/python3.7/site-packages (from linearmodels) (1.0.3)\n",
      "Requirement already satisfied: mypy-extensions>=0.4 in /Users/braddelong/opt/anaconda3/lib/python3.7/site-packages (from linearmodels) (0.4.3)\n",
      "Requirement already satisfied: property-cached>=1.6.3 in /Users/braddelong/opt/anaconda3/lib/python3.7/site-packages (from linearmodels) (1.6.4)\n",
      "Requirement already satisfied: statsmodels>=0.9 in /Users/braddelong/opt/anaconda3/lib/python3.7/site-packages (from linearmodels) (0.11.0)\n",
      "Requirement already satisfied: numpy>=1.15 in /Users/braddelong/opt/anaconda3/lib/python3.7/site-packages (from linearmodels) (1.18.1)\n",
      "Requirement already satisfied: patsy in /Users/braddelong/opt/anaconda3/lib/python3.7/site-packages (from linearmodels) (0.5.1)\n",
      "Requirement already satisfied: pytz>=2017.2 in /Users/braddelong/opt/anaconda3/lib/python3.7/site-packages (from pandas>=0.23->linearmodels) (2019.3)\n",
      "Requirement already satisfied: python-dateutil>=2.6.1 in /Users/braddelong/opt/anaconda3/lib/python3.7/site-packages (from pandas>=0.23->linearmodels) (2.8.1)\n",
      "Requirement already satisfied: six in /Users/braddelong/opt/anaconda3/lib/python3.7/site-packages (from patsy->linearmodels) (1.14.0)\n"
     ]
    }
   ],
   "source": [
    "# 8.1.3. set up the computing environment: additional library: linear models:\n",
    "\n",
    "!pip install linearmodels\n",
    "import statsmodels.api as sm\n",
    "from statsmodels.iolib.summary2 import summary_col\n",
    "from linearmodels.iv import IV2SLS"
   ]
  },
  {
   "cell_type": "markdown",
   "metadata": {},
   "source": [
    "## 2. Assertions...\n",
    "\n",
    "### A. Governance & Prosperity\n",
    "\n",
    "How much of the wide divergence in income and prosperity across countries in the world today reflects good and bad domestic political luck? \n",
    "\n",
    "**Daron Acemoglu, Simon Johnson, & James Robinson**, writing in 2000 in their _The Colonial Origins of Comparative Development: An Empirical Investigation_ <https://github.com/braddelong/public-files/blob/master/readings/article-acemoglu-colonial-origins.pdf>, conclude: a lot. \n",
    "\n",
    "In their view, whether a country has good governance—that encourages economic growth, encourages investment through protecting property rights, and is relatively uncorrupt—hinges on the luck of its history. Did it develop institutions that were good for growth, both as a result of the push and pull of politically powerful actors and because of far-sighted decisions by statesmen and stateswomen? Or did it not not?\n",
    "\n",
    "&nbsp;\n",
    "\n",
    "### B. The AJR Argument\n",
    "\n",
    "To understand the argument, let's download the data of **Daron Acemoglu, Simon Johnson, & James Robinson** (2000): _The Colonial Origins of Comparative Development: An Empirical Investigation_ <https://github.com/braddelong/public-files/blob/master/readings/article-acemoglu-colonial-origins.pdf>and take a look at the basic scatter of properity and \"governance\". The computer plots the quality of governance as estimated by Political Risk Services on the horizontal axis, and the logarithm of real income per capita in the country in 1995 on the vertical axis:"
   ]
  },
  {
   "cell_type": "code",
   "execution_count": 4,
   "metadata": {},
   "outputs": [
    {
     "data": {
      "text/html": [
       "<div>\n",
       "<style scoped>\n",
       "    .dataframe tbody tr th:only-of-type {\n",
       "        vertical-align: middle;\n",
       "    }\n",
       "\n",
       "    .dataframe tbody tr th {\n",
       "        vertical-align: top;\n",
       "    }\n",
       "\n",
       "    .dataframe thead th {\n",
       "        text-align: right;\n",
       "    }\n",
       "</style>\n",
       "<table border=\"1\" class=\"dataframe\">\n",
       "  <thead>\n",
       "    <tr style=\"text-align: right;\">\n",
       "      <th></th>\n",
       "      <th>shortid</th>\n",
       "      <th>europeanancestry1900</th>\n",
       "      <th>excolony</th>\n",
       "      <th>governancequality</th>\n",
       "      <th>logincome</th>\n",
       "      <th>logsettlermortality</th>\n",
       "      <th>loghjypl</th>\n",
       "      <th>basesample</th>\n",
       "    </tr>\n",
       "  </thead>\n",
       "  <tbody>\n",
       "    <tr>\n",
       "      <th>0</th>\n",
       "      <td>AFG</td>\n",
       "      <td>0.000000</td>\n",
       "      <td>1.0</td>\n",
       "      <td>NaN</td>\n",
       "      <td>NaN</td>\n",
       "      <td>4.540098</td>\n",
       "      <td>NaN</td>\n",
       "      <td>NaN</td>\n",
       "    </tr>\n",
       "    <tr>\n",
       "      <th>1</th>\n",
       "      <td>AGO</td>\n",
       "      <td>8.000000</td>\n",
       "      <td>1.0</td>\n",
       "      <td>5.363636</td>\n",
       "      <td>7.770645</td>\n",
       "      <td>5.634789</td>\n",
       "      <td>-3.411248</td>\n",
       "      <td>1.0</td>\n",
       "    </tr>\n",
       "    <tr>\n",
       "      <th>2</th>\n",
       "      <td>ARE</td>\n",
       "      <td>0.000000</td>\n",
       "      <td>1.0</td>\n",
       "      <td>7.181818</td>\n",
       "      <td>9.804219</td>\n",
       "      <td>NaN</td>\n",
       "      <td>NaN</td>\n",
       "      <td>NaN</td>\n",
       "    </tr>\n",
       "    <tr>\n",
       "      <th>3</th>\n",
       "      <td>ARG</td>\n",
       "      <td>60.000004</td>\n",
       "      <td>1.0</td>\n",
       "      <td>6.386364</td>\n",
       "      <td>9.133459</td>\n",
       "      <td>4.232656</td>\n",
       "      <td>-0.872274</td>\n",
       "      <td>1.0</td>\n",
       "    </tr>\n",
       "    <tr>\n",
       "      <th>4</th>\n",
       "      <td>ARM</td>\n",
       "      <td>0.000000</td>\n",
       "      <td>0.0</td>\n",
       "      <td>NaN</td>\n",
       "      <td>7.682482</td>\n",
       "      <td>NaN</td>\n",
       "      <td>NaN</td>\n",
       "      <td>NaN</td>\n",
       "    </tr>\n",
       "  </tbody>\n",
       "</table>\n",
       "</div>"
      ],
      "text/plain": [
       "  shortid  europeanancestry1900  excolony  governancequality  logincome  \\\n",
       "0     AFG              0.000000       1.0                NaN        NaN   \n",
       "1     AGO              8.000000       1.0           5.363636   7.770645   \n",
       "2     ARE              0.000000       1.0           7.181818   9.804219   \n",
       "3     ARG             60.000004       1.0           6.386364   9.133459   \n",
       "4     ARM              0.000000       0.0                NaN   7.682482   \n",
       "\n",
       "   logsettlermortality  loghjypl  basesample  \n",
       "0             4.540098       NaN         NaN  \n",
       "1             5.634789 -3.411248         1.0  \n",
       "2                  NaN       NaN         NaN  \n",
       "3             4.232656 -0.872274         1.0  \n",
       "4                  NaN       NaN         NaN  "
      ]
     },
     "execution_count": 4,
     "metadata": {},
     "output_type": "execute_result"
    }
   ],
   "source": [
    "# 8.2.B.1. download the ajr data & look at the basic scatter:\n",
    "#\n",
    "# 'governancequality' is as perceived over 1985-1995\n",
    "# by the PRS Group <https://www.prsgroup.com>\n",
    "#\n",
    "# 'logincome' is year-1995 real income per capita\n",
    "#\n",
    "# start by reading in the AJR data from the internet:\n",
    "\n",
    "ajr_df = pd.read_csv('https://delong.typepad.com/files/ajr-2020.csv')\n",
    "\n",
    "ajr_df.head()"
   ]
  },
  {
   "cell_type": "code",
   "execution_count": 20,
   "metadata": {},
   "outputs": [
    {
     "data": {
      "image/png": "[encoded data removed]",
      "text/plain": [
       "<Figure size 576x576 with 1 Axes>"
      ]
     },
     "metadata": {
      "needs_background": "light"
     },
     "output_type": "display_data"
    }
   ],
   "source": [
    "# drop missing observations:\n",
    "\n",
    "ajr_df = ajr_df.dropna(subset=['logincome', 'governancequality'])\n",
    "\n",
    "# restrict our analysis to the AJR \"base\" sample:\n",
    "\n",
    "ajr_df = ajr_df[ajr_df['basesample'] == 1]\n",
    "\n",
    "# tell python to expect figures to come \n",
    "# by initializing the python objects to hold the figures...\n",
    "\n",
    "fig, ax = plt.subplots(figsize=(8,8)) \n",
    "\n",
    "# create the figure with average expropriation risk on the horizontal and\n",
    "# 1995 per capita real income on the vertical axis\n",
    "\n",
    "ax.scatter(ajr_df['governancequality'], ajr_df['logincome'], marker='.')\n",
    "\n",
    "# now loop through the data[points in the figure, annotating each\n",
    "# data point with a three letter code ('Threeletterabbrevation') identifying the \n",
    "# country refered to:\n",
    "\n",
    "for i, txt in enumerate(ajr_df['shortid']):\n",
    "    ax.annotate(txt, (ajr_df['governancequality'].iloc[i], ajr_df['logincome'].iloc[i]))\n",
    "    \n",
    "\n",
    "# draw a straight least-squares fit line through the data\n",
    "\n",
    "ax.plot(np.unique(ajr_df['governancequality']),\n",
    "    np.poly1d(np.polyfit(ajr_df['governancequality'], ajr_df['logincome'], 1))(np.unique(ajr_df['governancequality'])),\n",
    "    color='black')\n",
    "\n",
    "# set the figure labels, and show the figure:\n",
    "\n",
    "\n",
    "ax.set_xlabel('Perceived Quality of Governance 1985-95', size=16)\n",
    "ax.set_ylabel('Log Income per Capita, 1995', size=16)\n",
    "ax.set_title('Basic AJR Scatter: Governance Quality & Prosperity', size=24)\n",
    "plt.show()"
   ]
  },
  {
   "cell_type": "markdown",
   "metadata": {},
   "source": [
    "## 3. Statistics...\n",
    "\n",
    "Note the \"least-squares fit line\": the computer has calculated and drawn a line according to an equation:\n",
    "\n",
    ">$ logincome =  \\hat{\\beta}_{const} + \\hat{\\beta}_{governancequality}(governancequality) $\n",
    "\n",
    "What is this \"least-squares fit line?\" It draws the line for which, when you take the vertical distances from each of the data points to the line, square the distances, and then add them up, that sum is least. In order to draw the line, the computer has to choose two parameters. The first is $ \\hat{\\beta}_{const} $, a \"constant\" term: changing it shifts the line up and down, and when it is equal to zero the line must go through the (0,0) point on the graph. The second is $ \\hat{\\beta}_{governancequality} $, the amount by which a one-unit increase in the variable on the x-axis raises the value of the variable on the y-axis: changing it tilts the line.\n",
    "\n",
    "Drawing this least-squares fit line is a good thing to do if the data-generating process is composed of (a) a linear straight-line relationship between the x-axis and the y-axis variables, plus (b) an extra (\"disturbance\") term raising or lowering the y-axis value by a random amount that has a _normal distribution_. Such a normal ditribution means \"thin tails\": that is, the chance that an observation will be very far from the underlying relationship between the x-axis and y-axis variables is very small, and that chance decreases very very rapidly indeed as you get further away."
   ]
  },
  {
   "cell_type": "markdown",
   "metadata": {},
   "source": [
    "Drawing this kind of least-squares best-fit line is called, in statistics, a \"regression analysis\". If we ask, the computer can tell us a number of things about the statistical characteristics of the line it has just drawn:"
   ]
  },
  {
   "cell_type": "code",
   "execution_count": 6,
   "metadata": {},
   "outputs": [
    {
     "name": "stdout",
     "output_type": "stream",
     "text": [
      "REGRESSION OF PROSPERITY ON GOVERNANCE QUALITY\n",
      "                            OLS Regression Results                            \n",
      "==============================================================================\n",
      "Dep. Variable:              logincome   R-squared:                       0.540\n",
      "Model:                            OLS   Adj. R-squared:                  0.533\n",
      "Method:                 Least Squares   F-statistic:                     72.82\n",
      "Date:                Wed, 28 Oct 2020   Prob (F-statistic):           4.72e-12\n",
      "Time:                        08:14:35   Log-Likelihood:                -68.168\n",
      "No. Observations:                  64   AIC:                             140.3\n",
      "Df Residuals:                      62   BIC:                             144.7\n",
      "Df Model:                           1                                         \n",
      "Covariance Type:            nonrobust                                         \n",
      "=====================================================================================\n",
      "                        coef    std err          t      P>|t|      [0.025      0.975]\n",
      "-------------------------------------------------------------------------------------\n",
      "constant              4.6604      0.409     11.408      0.000       3.844       5.477\n",
      "governancequality     0.5221      0.061      8.533      0.000       0.400       0.644\n",
      "==============================================================================\n",
      "Omnibus:                        7.098   Durbin-Watson:                   2.064\n",
      "Prob(Omnibus):                  0.029   Jarque-Bera (JB):                6.657\n",
      "Skew:                          -0.781   Prob(JB):                       0.0358\n",
      "Kurtosis:                       3.234   Cond. No.                         31.2\n",
      "==============================================================================\n",
      "\n",
      "Warnings:\n",
      "[1] Standard Errors assume that the covariance matrix of the errors is correctly specified.\n"
     ]
    }
   ],
   "source": [
    "# 8.3.1. since we do not want the relationship between x and y\n",
    "# to be forced to go through the point (0,0) on the graph,\n",
    "# we add a variable that is a constant—always equal to one—\n",
    "# to our dataframe\n",
    "#\n",
    "# thus as the computer hunts for the linear best-fit liine we\n",
    "# allow it both to change the slope of the fitted line and \n",
    "# to move it up or down to find the least-squares best fit:\n",
    "\n",
    "ajr_df['constant'] = 1\n",
    "\n",
    "print('REGRESSION OF PROSPERITY ON GOVERNANCE QUALITY')\n",
    "\n",
    "print(sm.OLS(endog=ajr_df['logincome'], \n",
    "                exog=ajr_df[['constant', 'governancequality']], \n",
    "                missing='drop').fit().summary())"
   ]
  },
  {
   "cell_type": "markdown",
   "metadata": {},
   "source": [
    "Here:\n",
    "\n",
    "* \"sm\" is the \"statsmodels\" package applications programming interface that we loaded earlier;\n",
    "* \"OLS\" means that we are carrying out a least-squares fit in the \"ordinary\" O (as opposed to, say, a \"two stage\" 2S) analysis;\n",
    "* \"endog = ajr_df['logincome']\" says that the thing we are trying to predict, analyze, and understand is the \"logincome\" variable in the \"ajr_df\" dataframe;\n",
    "* \"exog = ajr_df['constant', 'governancequality']\" says that we are assuming that logincome is determined by the \"governancequality\" quality-of-governance variable and the constant term (so that logincome does not have to be zero when avgexpr is zero) in the \"ajr_df\" dataframe;\n",
    "* \"missing = drop\" means that we drop from the analysis any observations—dataframe rows—in which some values of the data are missing;\n",
    "* \"fit\" means that we want to look at how well the least-squares line does at \"fitting\" the data;\n",
    "* \"summary\" means that we only want to look at the summary table;\n",
    "* and \"print\" means that we want the analysis printed out to the screen so that we can look at it.\n",
    "\n",
    "For our purposes, there are three most important numbers to look at in this table. "
   ]
  },
  {
   "cell_type": "markdown",
   "metadata": {},
   "source": [
    "The first, the first is the 0.540 labeled \"R-squared\" in the top-right. \n",
    "\n",
    "This tells us the proportion of the variation in the variable we are trying to understand—logincome, the log of real income per capita in 1995—that we could forecast if we knew the least-squares line and knew that country's values of our predictor variables—the constant, and the quality of governance avgexpr. The 0.522 tells us that, if quality of governance as we have estimated it is the only systematic determinant of log income per capita, that 52.2% of the variation in log income per capita is accounted for by the variation in quality of governance, and the rest is random variation.\n",
    "\n",
    "The second number is the 0.644 on the right, just above the third line of equals signs \"...======\". \n",
    "\n",
    "It tells us that, if this regression analysis is correctly specified (i.e., quality of governance as we have estimated it is the only systematic determinant of log income per capita), and if the random disturbances to log income per capita have nothing to do with each other (are \"independent\"), and if these disturbances have a normal distribution (\"thin tales\"), and if the data were generated starting from values of the constant and of governance quality governancequality by the equation:\n",
    "\n",
    ">$ logincome =  \\beta_{const} + \\beta_{governancequality}(governancequality) + \\epsilon $\n",
    "\n",
    "where the $ \\epsilon $ is the independent normally-distributed random disturbance,\n",
    "\n",
    "then there is only a 2.5% chance that the \"true\" $ \\beta_{governancequality} $ that generated the data is greater than 0.644.\n",
    "\n",
    "(Or, rather, only a 2.5% chance that 0.644 is greater than the \"true\" $ \\beta $ that generated the data. The true $ \\beta $ is what it is, and is not affected by what the data turned out to be. The 0.644 is a random variable that could have been high and could have been low. There was only a 2.5% chance that it would be higher than the true $ \\beta_{governancequality} $. But now that it has been calculated and realized, it is either higher than the true $ \\beta $ or it is not—but since you do not know the true $ \\beta_{governancequality} $, you do not know which is the case.)"
   ]
  },
  {
   "cell_type": "markdown",
   "metadata": {},
   "source": [
    "Now this 0.644 has a somewhat strange ontological status. It is a number that is \"true\" if a number of other things are true none of which are true: quality of governance is not the only systematic determinant, the random disturbances are not independent, they do not have a normal distribution, and the data were not generated by the equation. Thus assessing the relationship between the number and our reality requires some thought.\n",
    "\n",
    "The third number is the 0.400. It is the cousin of the 0.644. If there really were only a 2.5% chance that when you calculated the number that turned out to be 0.644 it would be higher than the true $ \\beta $, there would similarly be only a 2.5% chance that when you calculated the number that turned out to be 0.400 it would be lowere than the true $ \\beta $.\n",
    "\n",
    "We call the range [0.400, 0.644] the *confidence interval*. And we say that it is statistically unlikely that this randomly generated confidence interval that is a function of how pure chance generated the disturbance causes of real income per capita lies entirely outside of the true $ \\beta $. Whenever zero is not included in the confidence interval, people tend to say that that fact is \"statistically significant\". But it is better to avoid saying that, as it tends to lead to very fuzzy and misleading thinking.\n",
    "\n",
    "&nbsp;"
   ]
  },
  {
   "cell_type": "markdown",
   "metadata": {},
   "source": [
    "## 4. Quantitative Relationships...\n",
    "\n",
    "Now let's, for a moment, put aside all the statistical uncertainty issues. Let us suppose that the values of the equation:\n",
    "\n",
    ">$ logincome =  \\hat{\\beta}_{constant} + \\hat{\\beta}_{governancequality}(governancequality) $\n",
    "\n",
    "that our statistical analysis has estimated are the true values, and they are as given by the first numbers in the lines that start with \"constant\" and \"governancequality\":\n",
    "\n",
    ">$ \\hat{\\beta}_{constant} = 4.6604 $    \n",
    "$ \\hat{\\beta}_{governancequality} = 0.5221 $"
   ]
  },
  {
   "cell_type": "markdown",
   "metadata": {},
   "source": [
    "Thus if governance quality were zero, we would expect the log of income per capita to be 4.66. And we would expect every one-unit increase in governance quality to carry with it an 0.522 increase in the log of income per capita.\n",
    "\n",
    "What does such an equation mean?\n",
    "\n",
    "First, what does a log of 4.6604 mean? Let's calculate it in the cell below:"
   ]
  },
  {
   "cell_type": "code",
   "execution_count": 7,
   "metadata": {},
   "outputs": [
    {
     "name": "stdout",
     "output_type": "stream",
     "text": [
      "$ 105.67834504153564 /per year   is the annual income per capita level for which logincome is 4.6604\n"
     ]
    }
   ],
   "source": [
    "# 8.4.1. calculate the annual per-capita income level for which log income per capita is 4.6604\n",
    "\n",
    "y_4point6 = np.exp(4.6604) # REMOVE THIS BEFORE DEPLOYMENT\n",
    "\n",
    "# y_4point6 UNCOMMENT THIS\n",
    "\n",
    "print(\"$\",y_4point6, \"/per year   is the annual income per capita level for which logincome is 4.6604\" )"
   ]
  },
  {
   "cell_type": "markdown",
   "metadata": {},
   "source": [
    "But we do not get governance quality scores less than 4. What is the same calculation for a governance quality score of 4, given our two parameters 4.66 and 5.22:"
   ]
  },
  {
   "cell_type": "code",
   "execution_count": 8,
   "metadata": {},
   "outputs": [
    {
     "name": "stdout",
     "output_type": "stream",
     "text": [
      "$ 853.0345066875342 /per year   is the annual income per capita level for a governance-quality index of 4\n"
     ]
    }
   ],
   "source": [
    "# 8.4.2. calculate the expected annual per-capita income level for a governance-quality index of 4\n",
    "\n",
    "y_govqualis4 = np.exp(4.6604 + 0.5221*4) # DELETE THIS BEFORE DEPLOYMENT\n",
    "# y_govqualis4 = ... UNCOMMENT THIS BEFORE DEPLOYMENT\n",
    "\n",
    "print(\"$\",y_govqualis4, \"/per year   is the annual income per capita level for a governance-quality index of 4\")"
   ]
  },
  {
   "cell_type": "markdown",
   "metadata": {},
   "source": [
    "That is a near-subsistence income: 2.35 dollars a day per person. \n",
    "\n",
    "Since the y variable is a logarithm, recognize that each 0.522 arithmetic increase in the log as governance quality increases unit by unit is an equal multiplicative factor applied to income per capita. Let's calculate what that multiplicative factor is:"
   ]
  },
  {
   "cell_type": "code",
   "execution_count": 9,
   "metadata": {},
   "outputs": [
    {
     "name": "stdout",
     "output_type": "stream",
     "text": [
      "Increasing governance quality by one multiplies expected income by a factor of: 1.6853950712974088\n"
     ]
    }
   ],
   "source": [
    "# 8.4.3. by what factor is expected income multiplied when governance quality is increased by one unit?\n",
    "\n",
    "oneunitincomemult = np.exp(0.522) # DELETE THIS BEFORE DEPLOYMENT\n",
    "# oneunitincomemult = ... UNCOMMENT THIS BEFORE DEPLOYMENT\n",
    "\n",
    "print(\"Increasing governance quality by one multiplies expected income by a factor of:\", oneunitincomemult)"
   ]
  },
  {
   "cell_type": "markdown",
   "metadata": {},
   "source": [
    "These effects multiply. Let's print out what we expect income per capita to be for each governance-quality integer value from 4 to 10 inclusive:"
   ]
  },
  {
   "cell_type": "code",
   "execution_count": 10,
   "metadata": {},
   "outputs": [
    {
     "name": "stdout",
     "output_type": "stream",
     "text": [
      "For a governance quality of 4 , expected income per capita is: 852.6933611185216\n",
      "For a governance quality of 5 , expected income per capita is: 1437.1251881571782\n",
      "For a governance quality of 6 , expected income per capita is: 2422.12370895747\n",
      "For a governance quality of 7 , expected income per capita is: 4082.235361149513\n",
      "For a governance quality of 8 , expected income per capita is: 6880.179357557402\n",
      "For a governance quality of 9 , expected income per capita is: 11595.820378869399\n",
      "For a governance quality of 10 , expected income per capita is: 19543.538514196578\n"
     ]
    }
   ],
   "source": [
    "# 8.4.4. expected per-capita income as governance quality varies from 4 to 10\n",
    "\n",
    "govqual = []\n",
    "expinc = []\n",
    "\n",
    "for i in range(7):\n",
    "    govqual = govqual + [i+4]\n",
    "#    expinc = expinc + [...] UNCOMMENT THIS BEFORE DEPLOYMENT \n",
    "    expinc = expinc + [np.exp(4.6604 + (i+4)*0.522)] # DELETE THIS BEFORE DEPLOYMENT\n",
    "    \n",
    "for i in range(7):    \n",
    "    print(\"For a governance quality of\", govqual[i], \", expected income per capita is:\", expinc[i]) \n",
    "\n"
   ]
  },
  {
   "cell_type": "markdown",
   "metadata": {},
   "source": [
    "so that by the time we reach a pair of countries whose risk of appropriation scores differ by 6, the fitted relationship associates that with a difference in real per capita income of a factor of 23: the richer country is 23 times richer than the poorer one, according to the line of best fit. And that is the difference that is associated with the difference between a governance-quality index of 4 and a governance-quality index of 10, between a Haiti and a New Zealand.\n",
    "\n",
    "&nbsp;"
   ]
  },
  {
   "cell_type": "markdown",
   "metadata": {},
   "source": [
    "## 5. Directions of Causation...\n",
    "\n",
    "But which way does cause run? Is governance quality the cause, and prosperity the effect? Or is it prosperity—or the other factors that truly drive prosperity—that is the cause, and governance quality that is the effect? What happens if what you conduct an analysis, but what you think is cause is really effect?"
   ]
  },
  {
   "cell_type": "markdown",
   "metadata": {},
   "source": [
    "### A. Underlying Structure...\n",
    "\n",
    "Let us try to think through this issues. Let us, for the moment, assume that the level of prosperity Y is indeed determined by good governanCe G and by other, random, disturbance factors that we gather together and add up into the random variable which we call $ \\epsilon $. What is this random variable $ \\epsilon $ ? It is a thing that varies, randomly—that we cannot predict from inside the system. So we write:\n",
    "\n",
    "$ Y = \\beta G + \\epsilon $    \n",
    "\n",
    "And let us also assume, again for the moment, that prosperity Y causes high governance quality G—that prosperity leads to a society in which people have the resources and the voice and the power to demand good governance:\n",
    "\n",
    "$ G = \\gamma( Y +  \\nu ) $\n",
    "\n",
    "Where here the other causes of governance quality G than prosperity Y are gathered into another random variable which we call $ \\nu $ which, again, varies, randomly, and which we cannot predict from inside the system. \n",
    "\n",
    "Then if we solve for what Y and G are as functions of our random variables $ \\epsilon $ and $ \\nu $, we get:\n",
    "\n",
    "$ Y = \\frac{1}{1 - \\beta\\gamma}\\epsilon + \\frac{\\beta\\gamma}{1 - \\beta\\gamma} \\nu $    \n",
    "$ G = \\frac{\\gamma}{1 - \\beta\\gamma}\\epsilon + \\frac{\\gamma}{1 - \\beta\\gamma} \\nu  $\n",
    "\n",
    "Now we can start analyzing what we would expect a linear regression analysis like that of 8.3 to report about the relationship between G and Y. "
   ]
  },
  {
   "cell_type": "markdown",
   "metadata": {},
   "source": [
    "### B. How a Regression Analysis Calculates $ \\beta $...\n",
    "\n",
    "We can think of how the linear regression analysis calculates $ \\beta $ this way:\n",
    "\n",
    "1. The analysis starts as multiplying G by Y and then taking its \"expectation\" (we have to take expectations, because both P and Y are determined by these $ \\epsilon $ and $ \\nu $ objects that are varying randomly, so all we can say is what we expect them to be).\n",
    "2. The analysis continues by multiply P by multiplying itself and take its expectation\n",
    "3. The analysis then divides the first by the second: \n",
    "\n",
    "In doing this calculation, the normal rules of arithmetic apply, with some added weirdness. There are five points of added weirdness:\n",
    "\n",
    "1. We write $ \\sigma^2_{P} $ for our expectation of P multiplied by itself—but instead of saying \"what we expect the variation in P times itself to be\", we say that this is the *variance* of P.\n",
    "\n",
    "2. We write $ \\sigma_{YP} $ for our expectation of P multiplied by Y—but instead of saying \"what we expect the variation in P times Y to be\", we say that this is the *covariance* of P and Y.\n",
    "\n",
    "3. We, similarly to (1), write $ \\sigma^2_{\\epsilon} $ for our expectation of $ \\epsilon $ multiplied by itself—but instead of saying \"what we expect the variation in $ \\epsilon $ times itself to be\", we say that this is the *variance* of $ \\epsilon $.\n",
    "\n",
    "4. We, similarly to (1), write $ \\sigma^2_{\\nu} $ for our expectation of $ \\nu $ multiplied by itself—but instead of saying \"what we expect the variation in $ \\nu $ times itself to be\", we say that this is the *variance* of $ \\nu $.\n",
    "\n",
    "5. Wherever we are taking the expectation of something that has an $ \\epsilon $ multiplied by a $ \\nu $ in it, we set it equal to zero: $ \\sigma_{\\epsilon\\nu} = 0 $\n",
    "\n",
    "Applying these rules—and the normal rules of arithmetic—we can then calculate:"
   ]
  },
  {
   "cell_type": "markdown",
   "metadata": {},
   "source": [
    "First: $ \\sigma_{YP} = \\left[ \\gamma \\sigma^2_{\\epsilon} + \\beta \\gamma^2 \\sigma^2_{\\nu} \\right] \\left[\\frac{1}{1-\\beta\\gamma}  \\right]^2 $\n",
    "\n",
    "Second: $ \\sigma_{PP} = \\left[ \\gamma^2 \\sigma^2_{\\epsilon} + \\gamma^2 \\sigma^2_{\\nu} \\right] \\left[\\frac{1}{1-\\beta\\gamma}  \\right]^2 $\n",
    "\n",
    "Third: $ \\frac{ \\sigma_{YP}}{\\sigma_{PP}} =  \n",
    "\\frac {\\gamma \\sigma^2_{\\epsilon} + \\beta \\gamma^2 \\sigma^2_{\\nu}}   \n",
    "{\\gamma^2 \\sigma^2_{\\epsilon} + \\gamma^2 \\sigma^2_{\\nu}} $\n",
    "\n",
    "This last is what we expect the linear regression analysis to produce: we expect the $ \\hat{\\beta} $ produced by the regression analysis to be:\n",
    "\n",
    ">$ \\hat{\\beta} = \\frac{ \\sigma_{YP}}{\\sigma_{PP}} $\n",
    "\n",
    "It is convenient define a quantity that is the ratio of the two kinds of random variation in the model: $ \\rho = \\frac{\\sigma^2_{\\nu}} {\\sigma^2_{\\epsilon}} $. \n",
    "\n",
    "Then: $  \\hat{\\beta} = \\frac{\\sigma_{YP}}{\\sigma_{PP}} = \n",
    " \\left( \\frac{ \\rho}{1 + \\rho} \\right) \\beta +  \\left( \\frac{1 }{1  + \\rho} \\right) \\frac{1}{\\gamma}\n",
    "$"
   ]
  },
  {
   "cell_type": "markdown",
   "metadata": {},
   "source": [
    "The OLS regression coefficient $ \\hat{\\beta} $ is thus expected to be a weighted average of the true $ \\beta $ causal relationship between G and Y on the one hand, and the $ \\frac{1}{\\gamma} $ reverse-causation confounding term back from Y to G on the other. The weights in this weighted average depending on how much variation there is in the other things in the past or present that independently affect G, $ \\nu $, relative to how much variation there is the other things $ \\epsilon $ that determine prosperity besides governance quality.\n",
    "\n",
    "Alternatively we could write:\n",
    "\n",
    "$  \\hat{\\beta} - \\beta =  \n",
    " \\left( \\frac{1 }{1  + \\rho} \\right) \\left( \\frac{1}{\\gamma} - \\beta \\right)\n",
    "$"
   ]
  },
  {
   "cell_type": "markdown",
   "metadata": {},
   "source": [
    "### C. What $\\hat{\\beta} = 0.522 $  Tells Us...\n",
    "\n",
    "We do not know either $ \\rho $—the relative variability of the other factors that are determining G or Y—or $ \\gamma $—the strength of the causal forces leading good governance to be a result of prosperity. AJR worry that their impressive scatter is a result of this reverse causation.\n",
    "\n",
    "What can we say about it?\n",
    "\n",
    "First, if $ \\gamma = 0 $—if there is no reverse causation from prosperity to governance quality—then we expect the true $ \\beta = \\hat{\\beta} = 0.522 $. There is no problem. So let's consider only what might go wrong with our analysis when $ \\gamma ≠ 1 $.\n",
    "\n",
    "Second, we are fine either if $ | \\beta - 1/\\gamma | $ is small or if $ \\rho $ is sufficiently large. Only when $ \\rho $ is not sufficiently large and $ | \\beta - 1/\\gamma | $ is not small do we run into problems. \n",
    "\n",
    "What can we say about what the true $ \\beta $ might be, given our $ \\hat{\\beta} = 0.522 $, when $ \\rho $ is not large run and $ | \\beta - 1/\\gamma | $ is not small?\n",
    "\n",
    "This is what a computer is good for. Let's consider some scenarios—the first one with the true $ \\gamma = 1 $—and see how different values of $ \\rho $ lead us to expect to get different values of $ \\hat{beta} $:"
   ]
  },
  {
   "cell_type": "code",
   "execution_count": 11,
   "metadata": {},
   "outputs": [
    {
     "data": {
      "image/png": "[encoded data removed]",
      "text/plain": [
       "<Figure size 720x432 with 1 Axes>"
      ]
     },
     "metadata": {
      "needs_background": "light"
     },
     "output_type": "display_data"
    }
   ],
   "source": [
    "# 8.5.C.1. ɣ=1 case\n",
    "\n",
    "beta_hat = 0.522\n",
    "gamma = 1\n",
    "rho_series = []\n",
    "beta_series = []\n",
    "\n",
    "for i in range(5,100):\n",
    "    rho = i/10\n",
    "    beta =  ((1 + rho)/rho)*beta_hat - (1/gamma)/rho\n",
    "    rho_series = rho_series + [rho]\n",
    "    beta_series = beta_series + [beta]\n",
    "    \n",
    "\n",
    "fig, ax = plt.subplots(figsize=(10,6)) \n",
    "\n",
    "# create the figure with average expropriation risk on the horizontal and\n",
    "# 1995 per capita real income on the vertical axis\n",
    "\n",
    "ax.scatter(rho_series, beta_series, marker='.')\n",
    "\n",
    "ax.set_xlabel('⍴', size=10)\n",
    "ax.set_ylabel('β', size=10)\n",
    "ax.set_title('ɣ = 1', size=15)\n",
    "plt.show()"
   ]
  },
  {
   "cell_type": "markdown",
   "metadata": {},
   "source": [
    "See from the chart that, with ɣ = 1, if the variances are equal—if ⍴ = 1—then the finding that  $ \\hat{\\beta} = 0.522 $ means that, in truth, there is no causal relationship between governance and prosperity. Even though it looks like there is, all of it is due to reverse causality, and none of the relationship is due to good governance causing greater prosperity.\n",
    "\n",
    "What is our regression analysis likely to find if ɣ = 1/4? In the code cell below program up the chart creation process analogous to the one above, and then look at the answer:"
   ]
  },
  {
   "cell_type": "code",
   "execution_count": 12,
   "metadata": {},
   "outputs": [
    {
     "data": {
      "image/png": "[encoded data removed]",
      "text/plain": [
       "<Figure size 720x432 with 1 Axes>"
      ]
     },
     "metadata": {
      "needs_background": "light"
     },
     "output_type": "display_data"
    }
   ],
   "source": [
    "# 8.5.C.2. ɣ = 1/4 case\n",
    "\n",
    "# ...\n",
    "# ...\n",
    "# ...\n",
    "# ...\n",
    "\n",
    "# for...\n",
    "#    ...\n",
    "#    ...\n",
    "#    ...\n",
    "#    ...\n",
    "\n",
    "# ...\n",
    "# ...\n",
    "# ...\n",
    "# ...\n",
    "# ...\n",
    "# ...\n",
    "\n",
    "beta_hat = 0.522 # DELETE BEFORE DEPLOYING\n",
    "gamma = 0.25 # DELETE BEFORE DEPLOYING\n",
    "rho_series = [] # DELETE BEFORE DEPLOYING\n",
    "beta_series = [] # DELETE BEFORE DEPLOYING\n",
    "\n",
    "for i in range(20,500): # DELETE BEFORE DEPLOYING\n",
    "    rho = i/10 # DELETE BEFORE DEPLOYING\n",
    "    beta =  ((1 + rho)/rho)*beta_hat - (1/gamma)/rho # DELETE BEFORE DEPLOYING\n",
    "    rho_series = rho_series + [rho] # DELETE BEFORE DEPLOYING\n",
    "    beta_series = beta_series + [beta] # DELETE BEFORE DEPLOYING\n",
    "    \n",
    "\n",
    "fig, ax = plt.subplots(figsize=(10,6))  # DELETE BEFORE DEPLOYING\n",
    "\n",
    "# create the figure with average expropriation risk on the horizontal and\n",
    "# 1995 per capita real income on the vertical axis\n",
    "\n",
    "ax.scatter(rho_series, beta_series, marker='.') # DELETE BEFORE DEPLOYING\n",
    "\n",
    "ax.set_xlabel('⍴', size=10) # DELETE BEFORE DEPLOYING\n",
    "ax.set_ylabel('β', size=10) # DELETE BEFORE DEPLOYING\n",
    "ax.set_title('ɣ = 1/4', size=15) # DELETE BEFORE DEPLOYING\n",
    "plt.show() # DELETE BEFORE DEPLOYING"
   ]
  },
  {
   "cell_type": "markdown",
   "metadata": {},
   "source": [
    "How about if ɣ = 10? Once again, program up the chart creation, and look at it:"
   ]
  },
  {
   "cell_type": "code",
   "execution_count": 13,
   "metadata": {},
   "outputs": [
    {
     "data": {
      "image/png": "[encoded data removed]",
      "text/plain": [
       "<Figure size 720x432 with 1 Axes>"
      ]
     },
     "metadata": {
      "needs_background": "light"
     },
     "output_type": "display_data"
    }
   ],
   "source": [
    "# 8.5.C.3. ɣ = 10 case\n",
    "\n",
    "# ...\n",
    "# ...\n",
    "# ...\n",
    "# ...\n",
    "\n",
    "# for...\n",
    "#    ...\n",
    "#    ...\n",
    "#    ...\n",
    "#    ...\n",
    "\n",
    "# ...\n",
    "# ...\n",
    "# ...\n",
    "# ...\n",
    "# ...\n",
    "# ...\n",
    "\n",
    "beta_hat = 0.522 # DELETE BEFORE DEPLOYING\n",
    "gamma = 10 # DELETE BEFORE DEPLOYING\n",
    "rho_series = [] # DELETE BEFORE DEPLOYING\n",
    "beta_series = [] # DELETE BEFORE DEPLOYING\n",
    "\n",
    "for i in range(4,200): # DELETE BEFORE DEPLOYING\n",
    "    rho = i/10 # DELETE BEFORE DEPLOYING\n",
    "    beta =  ((1 + rho)/rho)*beta_hat - (1/gamma)/rho # DELETE BEFORE DEPLOYING\n",
    "    rho_series = rho_series + [rho] # DELETE BEFORE DEPLOYING\n",
    "    beta_series = beta_series + [beta] # DELETE BEFORE DEPLOYING\n",
    "    \n",
    "\n",
    "fig, ax = plt.subplots(figsize=(10,6))  # DELETE BEFORE DEPLOYING\n",
    "\n",
    "# create the figure with average expropriation risk on the horizontal and\n",
    "# 1995 per capita real income on the vertical axis\n",
    "\n",
    "ax.scatter(rho_series, beta_series, marker='.') # DELETE BEFORE DEPLOYING\n",
    "\n",
    "ax.set_xlabel('⍴', size=10) # DELETE BEFORE DEPLOYING\n",
    "ax.set_ylabel('β', size=10) # DELETE BEFORE DEPLOYING\n",
    "ax.set_title('ɣ = 10', size=15) # DELETE BEFORE DEPLOYING\n",
    "plt.show() # DELETE BEFORE DEPLOYING"
   ]
  },
  {
   "cell_type": "markdown",
   "metadata": {},
   "source": [
    "If ɣ is high—if the quality of governance is strongly caused by prosperity—then the estimated $ \\hat{\\beta} $ is not an over-but an underestimate of the true causal relationship running from quality of governance to prosperity."
   ]
  },
  {
   "cell_type": "markdown",
   "metadata": {},
   "source": [
    "Alternatively, we could consider a fixed value for the variability ratio $ \\rho $, and examine how the true $ \\beta $ would be different for different values of the strength ɣ of the reverse-causation channel, like this:"
   ]
  },
  {
   "cell_type": "code",
   "execution_count": 26,
   "metadata": {},
   "outputs": [
    {
     "data": {
      "image/png": "[encoded data removed]",
      "text/plain": [
       "<Figure size 720x432 with 1 Axes>"
      ]
     },
     "metadata": {
      "needs_background": "light"
     },
     "output_type": "display_data"
    }
   ],
   "source": [
    "# 8.5.C.4. ⍴=1 case\n",
    "\n",
    "beta_hat = 0.522\n",
    "rho = 1\n",
    "gamma_series = []\n",
    "beta_series = []\n",
    "\n",
    "for i in range(4,50):\n",
    "    gamma = i/10\n",
    "    beta =  ((1 + rho)/rho)*beta_hat - (1/gamma)/rho\n",
    "    gamma_series = gamma_series + [gamma]\n",
    "    beta_series = beta_series + [beta]\n",
    "    \n",
    "\n",
    "fig, ax = plt.subplots(figsize=(10,6)) \n",
    "\n",
    "# create the figure with average expropriation risk on the horizontal and\n",
    "# 1995 per capita real income on the vertical axis\n",
    "\n",
    "ax.scatter(gamma_series, beta_series, marker='.')\n",
    "\n",
    "ax.set_xlabel('ɣ', size=10)\n",
    "ax.set_ylabel('β', size=10)\n",
    "ax.set_title('⍴ = 1', size=15)\n",
    "plt.show()"
   ]
  },
  {
   "cell_type": "markdown",
   "metadata": {},
   "source": [
    "As ɣ—the strength of the reverse-causation channel from prosperity back to high-quality governance—varies from 0.4 to 5, then, for a variance ratio ⍴ = 1, an estimated $ \\hat{\\beta} = 0.522 $ can be associated with a true β strength of the causal relationship from governance to prosperity varying from -1.5 up to 0.8.\n",
    "\n",
    "We need to have a strong and informed view about both the value of ɣ, the strength of the reverse-causation channel from prosperity back to high-quality governance, and of ⍴, the ratio of the variations, in order to judge what the $ \\hat{\\beta} = 0.522 $ tells us about β."
   ]
  },
  {
   "cell_type": "markdown",
   "metadata": {},
   "source": [
    "&nbsp;"
   ]
  },
  {
   "cell_type": "markdown",
   "metadata": {},
   "source": [
    "## 6. What Can We Say About It?\n",
    "\n",
    "Recall our basic AJR scatter:"
   ]
  },
  {
   "cell_type": "code",
   "execution_count": 22,
   "metadata": {},
   "outputs": [
    {
     "data": {
      "image/png": "[encoded data removed]",
      "text/plain": [
       "<Figure size 576x576 with 1 Axes>"
      ]
     },
     "metadata": {
      "needs_background": "light"
     },
     "output_type": "display_data"
    }
   ],
   "source": [
    "# 8.6.1. governance quality & prosperity: basic scatter plot\n",
    "\n",
    "# tell python to expect figures to come \n",
    "# by initializing the python objects to hold the figures...\n",
    "\n",
    "fig, ax = plt.subplots(figsize=(8,8)) \n",
    "\n",
    "# create the figure with average expropriation risk on the horizontal and\n",
    "# 1995 per capita real income on the vertical axis\n",
    "\n",
    "ax.scatter(ajr_df['governancequality'], ajr_df['logincome'], marker='.')\n",
    "\n",
    "# now loop through the data[points in the figure, annotating each\n",
    "# data point with a three letter code ('Threeletterabbrevation') identifying the \n",
    "# country refered to:\n",
    "\n",
    "for i, txt in enumerate(ajr_df['shortid']):\n",
    "    ax.annotate(txt, (ajr_df['governancequality'].iloc[i], ajr_df['logincome'].iloc[i]))\n",
    "    \n",
    "\n",
    "# draw a straight least-squares fit line through the data\n",
    "\n",
    "ax.plot(np.unique(ajr_df['governancequality']),\n",
    "    np.poly1d(np.polyfit(ajr_df['governancequality'], ajr_df['logincome'], 1))(np.unique(ajr_df['governancequality'])),\n",
    "    color='black')\n",
    "\n",
    "# set the figure labels, and show the figure:\n",
    "\n",
    "\n",
    "ax.set_xlabel('Perceived Quality of Governance 1985-95', size=16)\n",
    "ax.set_ylabel('Log Income per Capita, 1995', size=16)\n",
    "ax.set_title('Basic AJR Scatter', size=24)\n",
    "plt.show()"
   ]
  },
  {
   "cell_type": "markdown",
   "metadata": {},
   "source": [
    "One thing we might do is to look at and think about \"outliers\" that are off the scatter relationship.\n",
    "\n",
    "For example: Panama, El Salvador, Guatemala, Argentina, Peru, Malta, and Hong Kong were all somewhat richer in 1995 than the standard scatter would have led us to expect. We can ask the questions: Why are they different? Is it that something interrupted the chain of transmission from prosperity to governance quality, so they wound up with worse governance quality than their prosperity should have produce? Or is it that some special benefit gave them more prosperity than their governance quality should otherwise have been able to support?\n",
    "\n",
    "Conversely: Nigeria, Togo, Cote d'Ivoire, Vietnam, Kenya, Tanzania, Sierra Leone, the Gambia, Ethiopia, and India are all poorer in 1995 than their governance quality would have led us to anticipate. Did something good happen to governance, giving them better governance than their prosperity fundamentals would have normally generated? Or did something bad happen to their levels of income to depress it?\n",
    "\n",
    "In this case, we are looking at historical events that disrupted normal patterns of causation. \n",
    "\n",
    "Another thing we might do is look at the influential observations that follow the scatter relationship. We know a great deal about the U.S., Canada, Australia, New Zealand, and Singapore. Are they prosperous because they have high-quality governance? Or do they have high-quality governance because they are prosperous? Conversely, the worst-off countries in the world in 1995 in both governance and prosperity were the Congo, the Democratic Republic of the Congo, Mali, Haiti, Sudan, Madagascar, Niger, Uganda, and Bangladesh. Were they, predominatly, poor beause they had low-quality governance? Or did they have low-quality governance predominately because they were poor?"
   ]
  },
  {
   "cell_type": "markdown",
   "metadata": {},
   "source": [
    "In the markdown cell below, in place of the ellipsis (\"...\") after the blue **<span style=\"color:blue;\">\"ANSWER:\"</span>**, please write 250-500 words about what you think we learn about the value of β from this (first part of) Acemoglu, Johnson, and Robinson's analysis."
   ]
  },
  {
   "cell_type": "markdown",
   "metadata": {},
   "source": [
    "<span style=\"color:blue;\">**ANSWER**: ...\n",
    "</span>"
   ]
  },
  {
   "cell_type": "markdown",
   "metadata": {},
   "source": [
    "## 7. Done!\n",
    "\n",
    "Print your finished notebook to pdf, and upload it as an answer on the problem set 8 assignment page. URL: "
   ]
  },
  {
   "cell_type": "code",
   "execution_count": 19,
   "metadata": {},
   "outputs": [
    {
     "name": "stdout",
     "output_type": "stream",
     "text": [
      "$ 853.0345066875342 /per year   is the annual income per capita level for a governance-quality index of 4\n",
      "Increasing governance quality by one multiplies expected income by a factor of: 1.6853950712974088\n",
      "For a governance quality of 4 , expected income per capita is: 852.6933611185216\n",
      "For a governance quality of 5 , expected income per capita is: 1437.1251881571782\n",
      "For a governance quality of 6 , expected income per capita is: 2422.12370895747\n",
      "For a governance quality of 7 , expected income per capita is: 4082.235361149513\n",
      "For a governance quality of 8 , expected income per capita is: 6880.179357557402\n",
      "For a governance quality of 9 , expected income per capita is: 11595.820378869399\n",
      "For a governance quality of 10 , expected income per capita is: 19543.538514196578\n"
     ]
    }
   ],
   "source": [
    "# 8.7.1. results summary cell\n",
    "\n",
    "print(\"$\",y_govqualis4, \"/per year   is the annual income per capita level for a governance-quality index of 4\")\n",
    "print(\"Increasing governance quality by one multiplies expected income by a factor of:\", oneunitincomemult)\n",
    "\n",
    "for i in range(7): \n",
    "    print(\"For a governance quality of\", govqual[i], \", expected income per capita is:\", expinc[i])\n",
    "\n",
    "    "
   ]
  },
  {
   "cell_type": "markdown",
   "metadata": {},
   "source": [
    "&nbsp;"
   ]
  },
  {
   "cell_type": "markdown",
   "metadata": {},
   "source": [
    "## 8. Appendix: Programming Dos and Don'ts...\n",
    "\n",
    "### A Running List...\n",
    "\n",
    "1. **Do** restart your kernel and run cells up to your current working point every fifteen minutes or so. Yes, it takes a little time. But if you don't, sooner or later the machine's namespace will get confused, and then you will get confused about the state of the machine's namespace, and by assuming things about it that are false you will lose hours and hours...   \n",
    "&nbsp;\n",
    "\n",
    "2. **Do** reload the page when restarting the kernel does not seem to do the job...   \n",
    "&nbsp;\n",
    "\n",
    "3. **Do** edit code cells by copying them below your current version and then working on the copy: when you break everything in the current cell (as you will), you can then go back to the old cell and start fresh...   \n",
    "&nbsp;\n",
    "\n",
    "4. **Do** exercise agile development practices: if there is a line of code that you have not tested, test it. The best way to test is to ask the machine to echo back to you the thing you have just created in its namespace to make sure that it is what you want it to be. Only after you are **certain** that your namespace contains what you think it does should you write the next line of code. And then you should immediately test it...   \n",
    "&nbsp;\n",
    "\n",
    "5. **Do** take screenshots of your error messages...   \n",
    "&nbsp;\n",
    "\n",
    "6. **Do** google your error messages: Ms. Google is your best friend here...   \n",
    "&nbsp;\n",
    "\n",
    "7. **Do not** confuse assignment (\"=\") and test for equality (\"==\"). In general, if there is an \"if\" anywhere nearby, you should be testing for equality. If there is not, you should be assignment a variable in your namespace to a value. **Do** curse the mathematicians 500 years ago who did not realize that in the twenty-first century it would be very convenient if we had different and not confusable symbols for equals-as-assignment and equals-as-test...   \n",
    "&nbsp;\n",
    "\n",
    "----\n",
    "\n",
    "&nbsp;\n",
    "\n",
    "**Thanks to**: Rachel Grossberg, Christopher Hench, Meghana Krishnakumer, Seth Lloyd, Ronald Walker..."
   ]
  },
  {
   "cell_type": "markdown",
   "metadata": {},
   "source": [
    "----\n",
    "\n",
    "&nbsp;\n",
    "\n",
    "## <font color=\"880000\"> Governance & Prosperity </font>\n",
    "\n",
    "<img src=\"https://tinyurl.com/20190119a-delong\" width=\"300\" style=\"float:right\" />\n",
    "\n",
    "### <font color=\"000088\">Catch Our Breath—Further Notes:</font>\n",
    "\n",
    "<br clear=\"all\" />\n",
    "\n",
    "----\n",
    "\n",
    "\n",
    "\n",
    "&nbsp;\n",
    "\n",
    "----"
   ]
  }
 ],
 "metadata": {
  "kernelspec": {
   "display_name": "Python 3",
   "language": "python",
   "name": "python3"
  },
  "language_info": {
   "codemirror_mode": {
    "name": "ipython",
    "version": 3
   },
   "file_extension": ".py",
   "mimetype": "text/x-python",
   "name": "python",
   "nbconvert_exporter": "python",
   "pygments_lexer": "ipython3",
   "version": "3.7.7"
  }
 },
 "nbformat": 4,
 "nbformat_minor": 4
}
